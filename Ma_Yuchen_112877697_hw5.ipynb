{
  "nbformat": 4,
  "nbformat_minor": 0,
  "metadata": {
    "accelerator": "TPU",
    "anaconda-cloud": {},
    "colab": {
      "name": "Ma_Yuchen_112877697_hw5.ipynb",
      "provenance": [],
      "collapsed_sections": [
        "JbzpDeRRNuHj"
      ],
      "machine_shape": "hm"
    },
    "kernelspec": {
      "name": "python3",
      "display_name": "Python 3"
    },
    "language_info": {
      "codemirror_mode": {
        "name": "ipython",
        "version": 3
      },
      "file_extension": ".py",
      "mimetype": "text/x-python",
      "name": "python",
      "nbconvert_exporter": "python",
      "pygments_lexer": "ipython3",
      "version": "3.6.9"
    }
  },
  "cells": [
    {
      "cell_type": "markdown",
      "metadata": {
        "colab_type": "text",
        "id": "AcamCuuyjYb2"
      },
      "source": [
        "# Action Recognition @ UCF101  \n",
        "**Due date: 11:59 pm on Nov. 19, 2019 (Tuesday)**\n",
        "\n",
        "## Description\n",
        "---\n",
        "In this homework, you will be doing action recognition using Recurrent Neural Network (RNN), (Long-Short Term Memory) LSTM in particular. You will be given a dataset called UCF101, which consists of 101 different actions/classes and for each action, there will be 145 samples. We tagged each sample into either training or testing. Each sample is supposed to be a short video, but we sampled 25 frames from each videos to reduce the amount of data. Consequently, a training sample is an image tuple that forms a 3D volume with one dimension encoding *temporal correlation* between frames and a label indicating what action it is.\n",
        "\n",
        "To tackle this problem, we aim to build a neural network that can not only capture spatial information of each frame but also temporal information between frames. Fortunately, you don't have to do this on your own. RNN — a type of neural network designed to deal with time-series data — is right here for you to use. In particular, you will be using LSTM for this task.\n",
        "\n",
        "Instead of training an end-to-end neural network from scratch whose computation is prohibitively expensive, we divide this into two steps: feature extraction and modelling. Below are the things you need to implement for this homework:\n",
        "- **{35 pts} Feature extraction**. Use any of the [pre-trained models](https://pytorch.org/docs/stable/torchvision/models.html) to extract features from each frame. Specifically, we recommend not to use the activations of the last layer as the features tend to be task specific towards the end of the network. \n",
        "    **hints**: \n",
        "    - A good starting point would be to use a pre-trained VGG16 network, we suggest first fully connected layer `torchvision.models.vgg16` (4096 dim) as features of each video frame. This will result into a 4096x25 matrix for each video. \n",
        "    - Normalize your images using `torchvision.transforms` \n",
        "    ```\n",
        "    normalize = transforms.Normalize(mean=[0.485, 0.456, 0.406], std=[0.229, 0.224, 0.225])\n",
        "    prep = transforms.Compose([ transforms.ToTensor(), normalize ])\n",
        "    prep(img)\n",
        "    The mean and std. mentioned above is specific to Imagenet data\n",
        "    \n",
        "    ```\n",
        "    More details of image preprocessing in PyTorch can be found at http://pytorch.org/tutorials/beginner/data_loading_tutorial.html\n",
        "    \n",
        "- **{35 pts} Modelling**. With the extracted features, build an LSTM network which takes a **dx25** sample as input (where **d** is the dimension of the extracted feature for each frame), and outputs the action label of that sample.\n",
        "- **{20 pts} Evaluation**. After training your network, you need to evaluate your model with the testing data by computing the prediction accuracy **(5 points)**. The baseline test accuracy for this data is 75%, and **10 points** out of 20 is for achieving test accuracy greater than the baseline. Moreover, you need to compare **(5 points)** the result of your network with that of support vector machine (SVM) (stacking the **dx25** feature matrix to a long vector and train a SVM).\n",
        "- **{10 pts} Report**. Details regarding the report can be found in the submission section below.\n",
        "\n",
        "Notice that the size of the raw images is 256x340, whereas your pre-trained model might take **nxn** images as inputs. To solve this problem, instead of resizing the images which unfavorably changes the spatial ratio, we take a better solution: Cropping five **nxn** images, one at the image center and four at the corners and compute the **d**-dim features for each of them, and average these five **d**-dim feature to get a final feature representation for the raw image.\n",
        "For example, VGG takes 224x224 images as inputs, so we take the five 224x224 croppings of the image, compute 4096-dim VGG features for each of them, and then take the mean of these five 4096-dim vectors to be the representation of the image.\n",
        "\n",
        "In order to save you computational time, you need to do the classification task only for **the first 25** classes of the whole dataset. The same applies to those who have access to GPUs. **Bonus 10 points for running and reporting on the entire 101 classes.**\n",
        "\n",
        "\n",
        "## Dataset\n",
        "Download **dataset** at [UCF101](http://vision.cs.stonybrook.edu/~yangwang/public/UCF101_images.tar)(Image data for each video) and the **annos folder** which has the video labels and the label to class name mapping is included in the assignment folder uploaded. \n",
        "\n",
        "\n",
        "UCF101 dataset contains 101 actions and 13,320 videos in total.  \n",
        "\n",
        "+ `annos/actions.txt`  \n",
        "  + lists all the actions (`ApplyEyeMakeup`, .., `YoYo`)   \n",
        "  \n",
        "+ `annots/videos_labels_subsets.txt`  \n",
        "  + lists all the videos (`v_000001`, .., `v_013320`)  \n",
        "  + labels (`1`, .., `101`)  \n",
        "  + subsets (`1` for train, `2` for test)  \n",
        "\n",
        "+ `images/`  \n",
        "  + each folder represents a video\n",
        "  + the video/folder name to class mapping can be found using `annots/videos_labels_subsets.txt`, for e.g. `v_000001` belongs to class 1 i.e. `ApplyEyeMakeup`\n",
        "  + each video folder contains 25 frames  \n",
        "\n",
        "\n",
        "\n",
        "## Some Tutorials\n",
        "- Good materials for understanding RNN and LSTM\n",
        "    - http://blog.echen.me\n",
        "    - http://karpathy.github.io/2015/05/21/rnn-effectiveness/\n",
        "    - http://colah.github.io/posts/2015-08-Understanding-LSTMs/\n",
        "- Implementing RNN and LSTM with PyTorch\n",
        "    - [LSTM with PyTorch](http://pytorch.org/tutorials/beginner/nlp/sequence_models_tutorial.html#sphx-glr-beginner-nlp-sequence-models-tutorial-py)\n",
        "    - [RNN with PyTorch](http://pytorch.org/tutorials/intermediate/char_rnn_classification_tutorial.html)"
      ]
    },
    {
      "cell_type": "markdown",
      "metadata": {
        "id": "fbi1Y63ZqAOW",
        "colab_type": "text"
      },
      "source": [
        "## Preparation"
      ]
    },
    {
      "cell_type": "code",
      "metadata": {
        "id": "A3FSfYoZwvK2",
        "colab_type": "code",
        "colab": {}
      },
      "source": [
        "import numpy as np\n",
        "import os\n",
        "import gc\n",
        "import shutil\n",
        "import torch\n",
        "import torchvision\n",
        "import torchvision.models as models\n",
        "from torch.autograd import Variable \n",
        "import torch.cuda\n",
        "import torchvision.transforms as transforms\n",
        "from PIL import Image\n",
        "import pickle\n",
        "from torch import nn\n",
        "import torch.nn.functional as F\n",
        "from sklearn.svm import LinearSVC"
      ],
      "execution_count": 0,
      "outputs": []
    },
    {
      "cell_type": "code",
      "metadata": {
        "id": "A7e6Xmw1heyt",
        "colab_type": "code",
        "outputId": "b0f32f19-ab70-4edd-b80b-870ed3408f58",
        "colab": {
          "base_uri": "https://localhost:8080/",
          "height": 122
        }
      },
      "source": [
        "from google.colab import drive\n",
        "drive.mount('/content/gdrive')"
      ],
      "execution_count": 0,
      "outputs": [
        {
          "output_type": "stream",
          "text": [
            "Go to this URL in a browser: https://accounts.google.com/o/oauth2/auth?client_id=947318989803-6bn6qk8qdgf4n4g3pfee6491hc0brc4i.apps.googleusercontent.com&redirect_uri=urn%3aietf%3awg%3aoauth%3a2.0%3aoob&response_type=code&scope=email%20https%3a%2f%2fwww.googleapis.com%2fauth%2fdocs.test%20https%3a%2f%2fwww.googleapis.com%2fauth%2fdrive%20https%3a%2f%2fwww.googleapis.com%2fauth%2fdrive.photos.readonly%20https%3a%2f%2fwww.googleapis.com%2fauth%2fpeopleapi.readonly\n",
            "\n",
            "Enter your authorization code:\n",
            "··········\n",
            "Mounted at /content/gdrive\n"
          ],
          "name": "stdout"
        }
      ]
    },
    {
      "cell_type": "code",
      "metadata": {
        "id": "_k2_Vg-nw54j",
        "colab_type": "code",
        "outputId": "5c07eccd-9b5f-4cd5-dae9-67d808ba9a52",
        "colab": {
          "base_uri": "https://localhost:8080/",
          "height": 34
        }
      },
      "source": [
        "os.chdir('/content/gdrive/My Drive/Ma_Yuchen_112877697_hw5')\n",
        "os.listdir()"
      ],
      "execution_count": 0,
      "outputs": [
        {
          "output_type": "execute_result",
          "data": {
            "text/plain": [
              "['test', 'name.txt', 'map.txt', 'train', 'Ma_Yuchen_112877697_hw5.ipynb']"
            ]
          },
          "metadata": {
            "tags": []
          },
          "execution_count": 4
        }
      ]
    },
    {
      "cell_type": "code",
      "metadata": {
        "id": "3jcke7Xmp-dk",
        "colab_type": "code",
        "colab": {}
      },
      "source": [
        "  content = []\n",
        "  with open('name.txt', 'r') as f:\n",
        "      for line in f.readlines():\n",
        "          content.append([line.strip('\\n')])\n",
        "\n",
        "  class_name = []\n",
        "  for i in range(0, 101):\n",
        "    t = content[i][0]\n",
        "    s = ''\n",
        "    for j in range(5, len(t)):\n",
        "      s = s + content[i][0][j]\n",
        "    class_name.append([s])\n",
        "\n",
        "  content1 = []\n",
        "  with open('map.txt', 'r') as f:\n",
        "      for line in f.readlines():\n",
        "          content1.append([line.strip('\\n')])\n",
        "\n",
        "  file_name = []\n",
        "  for i in range(0, 13320):\n",
        "    t = content1[i][0]\n",
        "    s = ''\n",
        "    for j in range(0,8):\n",
        "      s = s + content1[i][0][j]\n",
        "    file_name.append([s])\n",
        "\n",
        "  file_class_corr_num = []\n",
        "  for i in range(0, 13320):\n",
        "    t = content1[i][0]\n",
        "    s = ''\n",
        "    for j in range(9,len(t)-2):\n",
        "      s = s + content1[i][0][j]\n",
        "    int(s)\n",
        "    file_class_corr_num.append([s])\n",
        "\n",
        "  label_ = []\n",
        "  for i in range(0, 13320):\n",
        "    t = content1[i][0]\n",
        "    s = content1[i][0][len(t)-1]\n",
        "    label_.append([s])\n",
        "\n",
        "  # for i in range(0,13320):\n",
        "  # if label_[i][0] == '1':\n",
        "  #   src = '/content/gdrive/My Drive/Ma_Yuchen_112877697_hw5/images/' + file_name[i][0]\n",
        "  #   dst = '/content/gdrive/My Drive/Ma_Yuchen_112877697_hw5/train/' + name[int(file_num[i][0])-1][0]\n",
        "  #   shutil.move(src,dst)\n",
        "  # if label_[i][0] == '2':\n",
        "  #   src = '/content/gdrive/My Drive/Ma_Yuchen_112877697_hw5/images/' + file_name[i][0]\n",
        "  #   dst = '/content/gdrive/My Drive/Ma_Yuchen_112877697_hw5/test/' + name[int(file_num[i][0])-1][0]\n",
        "  #   shutil.move(src,dst)"
      ],
      "execution_count": 0,
      "outputs": []
    },
    {
      "cell_type": "markdown",
      "metadata": {
        "colab_type": "text",
        "id": "UdCRwkL7jxtc"
      },
      "source": [
        "---\n",
        "---\n",
        "## **Problem 1.** Feature extraction"
      ]
    },
    {
      "cell_type": "code",
      "metadata": {
        "id": "YZd41QVP2Qbm",
        "colab_type": "code",
        "outputId": "e1290429-799b-4486-9bde-8e22da002d58",
        "colab": {
          "base_uri": "https://localhost:8080/",
          "height": 51
        }
      },
      "source": [
        "model = models.vgg16(pretrained=True)\n",
        "model.classifier = model.classifier[:1]\n",
        "model = model.eval()\n",
        "feature_size = 224\n",
        "\n",
        "def extract_feature(img):\n",
        "    norm = transforms.Normalize(mean=[0.485, 0.456, 0.406], std=[0.229, 0.224, 0.225])\n",
        "    feature_transform = transforms.Compose([   \n",
        "        transforms.FiveCrop(feature_size),\n",
        "        transforms.Lambda(lambda crops: torch.stack([norm(transforms.ToTensor()(crop)) for crop in crops]))\n",
        "    ])\n",
        "    img_data = feature_transform(img)\n",
        "    with torch.no_grad():\n",
        "        feature = torch.mean(model(img_data),dim=0)\n",
        "    return feature"
      ],
      "execution_count": 0,
      "outputs": [
        {
          "output_type": "stream",
          "text": [
            "Downloading: \"https://download.pytorch.org/models/vgg16-397923af.pth\" to /root/.cache/torch/checkpoints/vgg16-397923af.pth\n",
            "100%|██████████| 528M/528M [00:13<00:00, 39.8MB/s]\n"
          ],
          "name": "stderr"
        }
      ]
    },
    {
      "cell_type": "code",
      "metadata": {
        "id": "Ppy7yOC6iwao",
        "colab_type": "code",
        "colab": {}
      },
      "source": [
        "for i in range(0,25):\n",
        "  src = '/content/gdrive/My Drive/Ma_Yuchen_112877697_hw5/train/' + class_name[i][0]\n",
        "  folder = torchvision.datasets.ImageFolder(src)\n",
        "  feature_list = []\n",
        "  flag = 0\n",
        "  for c, images in enumerate(folder):\n",
        "    feature_list += [extract_feature(images[0])]\n",
        "    flag = flag+1\n",
        "    if (flag%500==0):\n",
        "      print(flag)\n",
        "\n",
        "  list_ = []\n",
        "  k = 0\n",
        "  while (k < len(feature_list)):\n",
        "    temp = torch.stack([feature_list[k+j] for j in range(25)])\n",
        "    list_ += [temp]\n",
        "    k = k + 25\n",
        "\n",
        "  import pickle\n",
        "  output = open(str(i+1)+'.pkl', 'wb')\n",
        "  pickle.dump(list_, output)\n",
        "  output.close()\n",
        "  print(str(i+1)+'.pkl')\n",
        "  print('***********************************')"
      ],
      "execution_count": 0,
      "outputs": []
    },
    {
      "cell_type": "code",
      "metadata": {
        "id": "COzbmAieONW9",
        "colab_type": "code",
        "colab": {}
      },
      "source": [
        "temp = []\n",
        "for i in range(1,26):\n",
        "  pkl_file = open(str(i)+'.pkl', 'rb')\n",
        "  data = pickle.load(pkl_file)\n",
        "  temp.append(data)\n",
        "  print(str(i)+'.pkl')\n",
        "  pkl_file.close()"
      ],
      "execution_count": 0,
      "outputs": []
    },
    {
      "cell_type": "code",
      "metadata": {
        "id": "MO5JBRKbsvGz",
        "colab_type": "code",
        "colab": {}
      },
      "source": [
        "output = open('test.pkl', 'wb')\n",
        "pickle.dump(temp,output)\n",
        "output.close()"
      ],
      "execution_count": 0,
      "outputs": []
    },
    {
      "cell_type": "markdown",
      "metadata": {
        "colab_type": "text",
        "id": "UN74WLWpl7zQ"
      },
      "source": [
        "***\n",
        "***\n",
        "## **Problem 2.** Modelling"
      ]
    },
    {
      "cell_type": "markdown",
      "metadata": {
        "colab_type": "text",
        "id": "Do5OSV9Mnmwy"
      },
      "source": [
        "* ##### **Print the size of your training and test data**"
      ]
    },
    {
      "cell_type": "code",
      "metadata": {
        "colab_type": "code",
        "id": "0EGU31IJn5_h",
        "outputId": "e9c8d4f5-8ef3-46eb-ffb7-d71fd11acedf",
        "colab": {
          "base_uri": "https://localhost:8080/",
          "height": 51
        }
      },
      "source": [
        "# Don't hardcode the shape of train and test data\n",
        "\n",
        "os.chdir('/content/gdrive/My Drive/Ma_Yuchen_112877697_hw5/train')\n",
        "file1 = open('train.pkl', 'rb')\n",
        "train_data = pickle.load(file1)\n",
        "train = []\n",
        "train_label = []\n",
        "for i in range(0,25):\n",
        "  for j in range(0, len(train_data[i])):\n",
        "    train.append(train_data[i][j])\n",
        "    train_label.append(torch.LongTensor(1).fill_(i))\n",
        "train = torch.stack(train, 0)\n",
        "train_label = torch.stack(train_label, 0)\n",
        "\n",
        "os.chdir('/content/gdrive/My Drive/Ma_Yuchen_112877697_hw5/test')\n",
        "file2 = open('test.pkl', 'rb')\n",
        "test_data = pickle.load(file2)\n",
        "test = []\n",
        "test_label = []\n",
        "for i in range(0,25):\n",
        "  for j in range(0, len(test_data[i])):\n",
        "    test.append(test_data[i][j])\n",
        "    test_label.append(torch.LongTensor(1).fill_(i))\n",
        "test = torch.stack(test, 0)\n",
        "test_label = torch.stack(test_label, 0)\n",
        "\n",
        "print('Shape of training data is :', train.shape)\n",
        "print('Shape of test/validation data is :', test.shape)"
      ],
      "execution_count": 0,
      "outputs": [
        {
          "output_type": "stream",
          "text": [
            "Shape of training data is : torch.Size([2409, 25, 4096])\n",
            "Shape of test/validation data is : torch.Size([951, 25, 4096])\n"
          ],
          "name": "stdout"
        }
      ]
    },
    {
      "cell_type": "code",
      "metadata": {
        "id": "wekSdvJ1KxxT",
        "colab_type": "code",
        "outputId": "5fc65cc8-3395-4a2a-e01b-fec44959c9ac",
        "colab": {
          "base_uri": "https://localhost:8080/",
          "height": 85
        }
      },
      "source": [
        "class lstm(nn.Module):\n",
        "    def __init__(self):\n",
        "        super(lstm, self).__init__()\n",
        "        self.hidden_dim = 256\n",
        "        self.lstm = nn.LSTM(\n",
        "            input_size = 4096,\n",
        "            hidden_size = 256,\n",
        "            num_layers = 1,\n",
        "            batch_first = True)\n",
        "        self.out = nn.Linear(256, 25)\n",
        "\n",
        "    def forward(self, img):\n",
        "        lstm_out, _ = self.lstm(img, None)\n",
        "        tag_out = self.out(lstm_out[:,-1,:])\n",
        "        tag_scores = F.softmax(tag_out, dim=1)\n",
        "        return tag_scores\n",
        "\n",
        "model = lstm()\n",
        "model1 = lstm()\n",
        "model2 = lstm()\n",
        "loss_function = nn.CrossEntropyLoss()\n",
        "optimizer = torch.optim.SGD(model.parameters(), lr=0.001)\n",
        "optimizer1 = torch.optim.SGD(model1.parameters(), lr=0.001)\n",
        "optimizer2 = torch.optim.SGD(model2.parameters(), lr=0.001)\n",
        "model"
      ],
      "execution_count": 0,
      "outputs": [
        {
          "output_type": "execute_result",
          "data": {
            "text/plain": [
              "lstm(\n",
              "  (lstm): LSTM(4096, 256, batch_first=True)\n",
              "  (out): Linear(in_features=256, out_features=25, bias=True)\n",
              ")"
            ]
          },
          "metadata": {
            "tags": []
          },
          "execution_count": 21
        }
      ]
    },
    {
      "cell_type": "code",
      "metadata": {
        "id": "nZal5yh3Je97",
        "colab_type": "code",
        "colab": {}
      },
      "source": [
        "for epoch in range(100):\n",
        "  for i in range(0, len(train)):\n",
        "    model.zero_grad()\n",
        "    inputs = Variable(train[i].view(1,25,4096))\n",
        "    targets = train_label[i]\n",
        "    tag_scores = model(inputs)\n",
        "    loss = loss_function(tag_scores, targets)\n",
        "    loss.backward()\n",
        "    optimizer.step()\n",
        "print(\"Done!\")"
      ],
      "execution_count": 0,
      "outputs": []
    },
    {
      "cell_type": "code",
      "metadata": {
        "id": "bfxsB2zFK6Sq",
        "colab_type": "code",
        "outputId": "dd26b0aa-422d-4c4b-af63-9fb906faa3e3",
        "colab": {
          "base_uri": "https://localhost:8080/",
          "height": 34
        }
      },
      "source": [
        "for epoch in range(20):\n",
        "  for i in range(0, len(train)):\n",
        "    model1.zero_grad()\n",
        "    inputs = Variable(train[i].view(1,25,4096))\n",
        "    targets = train_label[i]\n",
        "    tag_scores = model1(inputs)\n",
        "    loss = loss_function(tag_scores, targets)\n",
        "    loss.backward()\n",
        "    optimizer1.step()\n",
        "print(\"Done!\")"
      ],
      "execution_count": 0,
      "outputs": [
        {
          "output_type": "stream",
          "text": [
            "Done!\n"
          ],
          "name": "stdout"
        }
      ]
    },
    {
      "cell_type": "code",
      "metadata": {
        "id": "Hue_V7toLV-J",
        "colab_type": "code",
        "outputId": "3322d5ba-47ba-4dd1-ed3b-2fbd19996b11",
        "colab": {
          "base_uri": "https://localhost:8080/",
          "height": 34
        }
      },
      "source": [
        "for epoch in range(50):\n",
        "  for i in range(0, len(train)):\n",
        "    model2.zero_grad()\n",
        "    inputs = Variable(train[i].view(1,25,4096))\n",
        "    targets = train_label[i]\n",
        "    tag_scores = model2(inputs)\n",
        "    loss = loss_function(tag_scores, targets)\n",
        "    loss.backward()\n",
        "    optimizer2.step()\n",
        "print(\"Done!\")"
      ],
      "execution_count": 0,
      "outputs": [
        {
          "output_type": "stream",
          "text": [
            "Done!\n"
          ],
          "name": "stdout"
        }
      ]
    },
    {
      "cell_type": "code",
      "metadata": {
        "id": "0oVsmBv0PuFc",
        "colab_type": "code",
        "outputId": "cac76c27-b550-4d2d-b710-151363ee0802",
        "colab": {
          "base_uri": "https://localhost:8080/",
          "height": 119
        }
      },
      "source": [
        "class VariationalDropout(nn.Module):\n",
        "    def __init__(self, dropout: float, batch_first: bool=False):\n",
        "        super().__init__()\n",
        "        self.dropout = dropout\n",
        "        self.batch_first = batch_first\n",
        "\n",
        "    def forward(self, x: torch.Tensor) -> torch.Tensor:\n",
        "        if not self.training or self.dropout <= 0.:\n",
        "            return x\n",
        "\n",
        "        is_packed = isinstance(x, PackedSequence)\n",
        "        if is_packed:\n",
        "            x, batch_sizes = x\n",
        "            max_batch_size = int(batch_sizes[0])\n",
        "        else:\n",
        "            batch_sizes = None\n",
        "            max_batch_size = x.size(0)\n",
        "\n",
        "        # Drop same mask across entire sequence\n",
        "        if self.batch_first:\n",
        "            m = x.new_empty(max_batch_size, 1, x.size(2), requires_grad=False).bernoulli_(1 - self.dropout)\n",
        "        else:\n",
        "            m = x.new_empty(1, max_batch_size, x.size(2), requires_grad=False).bernoulli_(1 - self.dropout)\n",
        "        x = x.masked_fill(m == 0, 0) / (1 - self.dropout)\n",
        "\n",
        "        if is_packed:\n",
        "            return PackedSequence(x, batch_sizes)\n",
        "        else:\n",
        "            return x\n",
        "\n",
        "class better_lstm(nn.LSTM):\n",
        "    def __init__(self, *args, dropouti: float=0.,\n",
        "                 dropoutw: float=0., dropouto: float=0.,\n",
        "                 batch_first=True, unit_forget_bias=True, **kwargs):\n",
        "        super().__init__(*args, **kwargs, batch_first=batch_first)\n",
        "        self.unit_forget_bias = unit_forget_bias\n",
        "        self.dropoutw = dropoutw\n",
        "        self.input_drop = VariationalDropout(dropouti,\n",
        "                                             batch_first=batch_first)\n",
        "        self.output_drop = VariationalDropout(dropouto,\n",
        "                                              batch_first=batch_first)\n",
        "        self._init_weights()\n",
        "        self.out = nn.Linear(256, 25)\n",
        "\n",
        "    def _init_weights(self):\n",
        "        for name, param in self.named_parameters():\n",
        "            if \"weight_hh\" in name:\n",
        "                nn.init.orthogonal_(param.data)\n",
        "            elif \"weight_ih\" in name:\n",
        "                nn.init.xavier_uniform_(param.data)\n",
        "            elif \"bias\" in name and self.unit_forget_bias:\n",
        "                nn.init.zeros_(param.data)\n",
        "                param.data[self.hidden_size:2 * self.hidden_size] = 1\n",
        "\n",
        "    def _drop_weights(self):\n",
        "        for name, param in self.named_parameters():\n",
        "            if \"weight_hh\" in name:\n",
        "                getattr(self, name).data = \\\n",
        "                    torch.nn.functional.dropout(param.data, p=self.dropoutw,\n",
        "                                                training=self.training).contiguous()\n",
        "\n",
        "    def forward(self, input, hx=None):\n",
        "        self._drop_weights()\n",
        "        input = self.input_drop(input)\n",
        "        seq, state = super().forward(input, hx=hx)\n",
        "        tag_out = self.out(seq[:,-1,:])\n",
        "        tag_scores = F.softmax(tag_out, dim=1)\n",
        "        return tag_scores\n"
      ],
      "execution_count": 0,
      "outputs": [
        {
          "output_type": "execute_result",
          "data": {
            "text/plain": [
              "better_lstm(\n",
              "  4096, 256, batch_first=True\n",
              "  (input_drop): VariationalDropout()\n",
              "  (output_drop): VariationalDropout()\n",
              "  (out): Linear(in_features=256, out_features=25, bias=True)\n",
              ")"
            ]
          },
          "metadata": {
            "tags": []
          },
          "execution_count": 74
        }
      ]
    },
    {
      "cell_type": "code",
      "metadata": {
        "id": "iwyY5MmNGVpV",
        "colab_type": "code",
        "outputId": "58f3413c-03e3-4725-f230-6e1a150225ef",
        "colab": {
          "base_uri": "https://localhost:8080/",
          "height": 85
        }
      },
      "source": [
        "class double_lstm(nn.Module):\n",
        "    def __init__(self):\n",
        "        super(double_lstm, self).__init__()\n",
        "        self.hidden_dim = 256\n",
        "        self.double_lstm= nn.LSTM(\n",
        "            input_size = 4096,\n",
        "            hidden_size = 256,\n",
        "            num_layers = 2,\n",
        "            batch_first = True)\n",
        "        self.out = nn.Linear(256, 25)\n",
        "\n",
        "    def forward(self, img):\n",
        "        lstm_out, _ = self.double_lstm(img, None)\n",
        "        tag_out = self.out(lstm_out[:,-1,:])\n",
        "        tag_scores = F.softmax(tag_out, dim=1)\n",
        "        return tag_scores\n",
        "\n",
        "model3 = double_lstm()\n",
        "model4 = double_lstm()\n",
        "model5 = double_lstm()\n",
        "loss_function = nn.CrossEntropyLoss()\n",
        "optimizer3 = torch.optim.SGD(model3.parameters(), lr=0.001)\n",
        "optimizer4 = torch.optim.SGD(model4.parameters(), lr=0.001)\n",
        "optimizer5 = torch.optim.SGD(model5.parameters(), lr=0.0001)\n",
        "model3"
      ],
      "execution_count": 0,
      "outputs": [
        {
          "output_type": "execute_result",
          "data": {
            "text/plain": [
              "double_lstm(\n",
              "  (double_lstm): LSTM(4096, 256, num_layers=2, batch_first=True)\n",
              "  (out): Linear(in_features=256, out_features=25, bias=True)\n",
              ")"
            ]
          },
          "metadata": {
            "tags": []
          },
          "execution_count": 7
        }
      ]
    },
    {
      "cell_type": "code",
      "metadata": {
        "id": "ZAW6NTqZIhWr",
        "colab_type": "code",
        "outputId": "fbc2eede-5492-4375-a9e8-dbc496e80759",
        "colab": {
          "base_uri": "https://localhost:8080/",
          "height": 374
        }
      },
      "source": [
        "for epoch in range(20):\n",
        "  print(epoch)\n",
        "  for i in range(0, len(train)):\n",
        "    model3.zero_grad()\n",
        "    inputs = Variable(train[i].view(1,25,4096))\n",
        "    targets = train_label[i]\n",
        "    tag_scores = model3(inputs)\n",
        "    loss = loss_function(tag_scores, targets)\n",
        "    loss.backward()\n",
        "    optimizer3.step()\n",
        "print(\"Done!\")"
      ],
      "execution_count": 0,
      "outputs": [
        {
          "output_type": "stream",
          "text": [
            "0\n",
            "1\n",
            "2\n",
            "3\n",
            "4\n",
            "5\n",
            "6\n",
            "7\n",
            "8\n",
            "9\n",
            "10\n",
            "11\n",
            "12\n",
            "13\n",
            "14\n",
            "15\n",
            "16\n",
            "17\n",
            "18\n",
            "19\n",
            "Done!\n"
          ],
          "name": "stdout"
        }
      ]
    },
    {
      "cell_type": "code",
      "metadata": {
        "id": "pj7Wq42hWYl9",
        "colab_type": "code",
        "outputId": "74b1727e-acac-446a-e4df-5e91395f37dc",
        "colab": {
          "base_uri": "https://localhost:8080/",
          "height": 884
        }
      },
      "source": [
        "for epoch in range(50):\n",
        "  print(epoch)\n",
        "  for i in range(0, len(train)):\n",
        "    model4.zero_grad()\n",
        "    inputs = Variable(train[i].view(1,25,4096))\n",
        "    targets = train_label[i]\n",
        "    tag_scores = model4(inputs)\n",
        "    loss = loss_function(tag_scores, targets)\n",
        "    loss.backward()\n",
        "    optimizer4.step()\n",
        "print(\"Done!\")"
      ],
      "execution_count": 0,
      "outputs": [
        {
          "output_type": "stream",
          "text": [
            "0\n",
            "1\n",
            "2\n",
            "3\n",
            "4\n",
            "5\n",
            "6\n",
            "7\n",
            "8\n",
            "9\n",
            "10\n",
            "11\n",
            "12\n",
            "13\n",
            "14\n",
            "15\n",
            "16\n",
            "17\n",
            "18\n",
            "19\n",
            "20\n",
            "21\n",
            "22\n",
            "23\n",
            "24\n",
            "25\n",
            "26\n",
            "27\n",
            "28\n",
            "29\n",
            "30\n",
            "31\n",
            "32\n",
            "33\n",
            "34\n",
            "35\n",
            "36\n",
            "37\n",
            "38\n",
            "39\n",
            "40\n",
            "41\n",
            "42\n",
            "43\n",
            "44\n",
            "45\n",
            "46\n",
            "47\n",
            "48\n",
            "49\n",
            "Done!\n"
          ],
          "name": "stdout"
        }
      ]
    },
    {
      "cell_type": "code",
      "metadata": {
        "id": "X1HeayMiWZkG",
        "colab_type": "code",
        "colab": {
          "base_uri": "https://localhost:8080/",
          "height": 1000
        },
        "outputId": "0c912a9c-b880-46bf-fa0f-0c9a6842e6b2"
      },
      "source": [
        "for epoch in range(100):\n",
        "  print(epoch)\n",
        "  for i in range(0, len(train)):\n",
        "    model5.zero_grad()\n",
        "    inputs = Variable(train[i].view(1,25,4096))\n",
        "    targets = train_label[i]\n",
        "    tag_scores = model5(inputs)\n",
        "    loss = loss_function(tag_scores, targets)\n",
        "    loss.backward()\n",
        "    optimizer5.step()\n",
        "print(\"Done!\")"
      ],
      "execution_count": 9,
      "outputs": [
        {
          "output_type": "stream",
          "text": [
            "0\n",
            "1\n",
            "2\n",
            "3\n",
            "4\n",
            "5\n",
            "6\n",
            "7\n",
            "8\n",
            "9\n",
            "10\n",
            "11\n",
            "12\n",
            "13\n",
            "14\n",
            "15\n",
            "16\n",
            "17\n",
            "18\n",
            "19\n",
            "20\n",
            "21\n",
            "22\n",
            "23\n",
            "24\n",
            "25\n",
            "26\n",
            "27\n",
            "28\n",
            "29\n",
            "30\n",
            "31\n",
            "32\n",
            "33\n",
            "34\n",
            "35\n",
            "36\n",
            "37\n",
            "38\n",
            "39\n",
            "40\n",
            "41\n",
            "42\n",
            "43\n",
            "44\n",
            "45\n",
            "46\n",
            "47\n",
            "48\n",
            "49\n",
            "50\n",
            "51\n",
            "52\n",
            "53\n",
            "54\n",
            "55\n",
            "56\n",
            "57\n",
            "58\n",
            "59\n",
            "60\n",
            "61\n",
            "62\n",
            "63\n",
            "64\n",
            "65\n",
            "66\n",
            "67\n",
            "68\n",
            "69\n",
            "70\n",
            "71\n",
            "72\n",
            "73\n",
            "74\n",
            "75\n",
            "76\n",
            "77\n",
            "78\n",
            "79\n",
            "80\n",
            "81\n",
            "82\n",
            "83\n",
            "84\n",
            "85\n",
            "86\n",
            "87\n",
            "88\n",
            "89\n",
            "90\n",
            "91\n",
            "92\n",
            "93\n",
            "94\n",
            "95\n",
            "96\n",
            "97\n",
            "98\n",
            "99\n",
            "Done!\n"
          ],
          "name": "stdout"
        }
      ]
    },
    {
      "cell_type": "markdown",
      "metadata": {
        "colab_type": "text",
        "id": "v0znm2TMmsDZ"
      },
      "source": [
        "---\n",
        "---\n",
        "## **Problem 3.** Evaluation"
      ]
    },
    {
      "cell_type": "code",
      "metadata": {
        "colab_type": "code",
        "id": "ARtMhcbXmsXk",
        "colab": {}
      },
      "source": [
        "# \\*write your codes for evaluation (You can use multiple cells, this is just a place holder)"
      ],
      "execution_count": 0,
      "outputs": []
    },
    {
      "cell_type": "markdown",
      "metadata": {
        "colab_type": "text",
        "id": "80ZUeqnGv48f"
      },
      "source": [
        "* ##### **Print the train and test accuracy of your model** "
      ]
    },
    {
      "cell_type": "code",
      "metadata": {
        "colab_type": "code",
        "id": "UMMXAjMjv4g5",
        "colab": {}
      },
      "source": [
        "# Don't hardcode the train and test accuracy\n",
        "#epoch = 100\n",
        "total = 0\n",
        "correct = 0\n",
        "with torch.no_grad():\n",
        "  for i in range(0,len(train)):\n",
        "   inputs = Variable(train[i].view(1,25,4096))\n",
        "   targets = train_label[i]\n",
        "   tag_scores = model(inputs)\n",
        "   _, pred = torch.max(tag_scores.data, 1)\n",
        "   total += 1\n",
        "   correct += (pred == targets).sum().item()\n",
        "print('Training accuracy is :',correct/total*100)\n",
        "\n",
        "total1 = 0\n",
        "correct1 = 0\n",
        "with torch.no_grad():\n",
        "  for i in range(0,len(test)):\n",
        "   inputs = Variable(test[i].view(1,25,4096))\n",
        "   targets = test_label[i]\n",
        "   tag_scores = model(inputs)\n",
        "   _, pred = torch.max(tag_scores.data, 1)\n",
        "   total1 += 1\n",
        "   correct1 += (pred == targets).sum().item()\n",
        "print('Testing accuracy is :',correct1/total1*100)"
      ],
      "execution_count": 0,
      "outputs": []
    },
    {
      "cell_type": "code",
      "metadata": {
        "id": "R3gj0kyyH3oG",
        "colab_type": "code",
        "outputId": "30f3d47e-4f5e-4c6e-c778-0b12dab7a618",
        "colab": {
          "base_uri": "https://localhost:8080/",
          "height": 51
        }
      },
      "source": [
        "# epoch = 20\n",
        "total2 = 0\n",
        "correct2 = 0\n",
        "with torch.no_grad():\n",
        "  for i in range(0,len(train)):\n",
        "   inputs = Variable(train[i].view(1,25,4096))\n",
        "   targets = train_label[i]\n",
        "   tag_scores = model1(inputs)\n",
        "   _, pred = torch.max(tag_scores.data, 1)\n",
        "   total2 += 1\n",
        "   correct2 += (pred == targets).sum().item()\n",
        "print('Training accuracy is :',correct2/total2*100)\n",
        "\n",
        "total3 = 0\n",
        "correct3 = 0\n",
        "with torch.no_grad():\n",
        "  for i in range(0,len(test)):\n",
        "   inputs = Variable(test[i].view(1,25,4096))\n",
        "   targets = test_label[i]\n",
        "   tag_scores = model1(inputs)\n",
        "   _, pred = torch.max(tag_scores.data, 1)\n",
        "   total3 += 1\n",
        "   correct3 += (pred == targets).sum().item()\n",
        "print('Testing accuracy is :',correct3/total3*100)"
      ],
      "execution_count": 0,
      "outputs": [
        {
          "output_type": "stream",
          "text": [
            "Training accuracy is : 70.1120797011208\n",
            "Testing accuracy is : 60.042060988433235\n"
          ],
          "name": "stdout"
        }
      ]
    },
    {
      "cell_type": "code",
      "metadata": {
        "id": "YPeYj83JLgEX",
        "colab_type": "code",
        "outputId": "3f77dc88-3dac-4e0c-c5c3-8946f82052f4",
        "colab": {
          "base_uri": "https://localhost:8080/",
          "height": 51
        }
      },
      "source": [
        "# epoch = 50\n",
        "total4 = 0\n",
        "correct4 = 0\n",
        "with torch.no_grad():\n",
        "  for i in range(0,len(train)):\n",
        "   inputs = Variable(train[i].view(1,25,4096))\n",
        "   targets = train_label[i]\n",
        "   tag_scores = model2(inputs)\n",
        "   _, pred = torch.max(tag_scores.data, 1)\n",
        "   total4 += 1\n",
        "   correct4 += (pred == targets).sum().item()\n",
        "print('Training accuracy is :',correct4/total4*100)\n",
        "\n",
        "total5 = 0\n",
        "correct5 = 0\n",
        "with torch.no_grad():\n",
        "  for i in range(0,len(test)):\n",
        "   inputs = Variable(test[i].view(1,25,4096))\n",
        "   targets = test_label[i]\n",
        "   tag_scores = model2(inputs)\n",
        "   _, pred = torch.max(tag_scores.data, 1)\n",
        "   total5 += 1\n",
        "   correct5 += (pred == targets).sum().item()\n",
        "print('Testing accuracy is :',correct5/total5*100)"
      ],
      "execution_count": 0,
      "outputs": [
        {
          "output_type": "stream",
          "text": [
            "Training accuracy is : 91.65628891656289\n",
            "Testing accuracy is : 75.49947423764458\n"
          ],
          "name": "stdout"
        }
      ]
    },
    {
      "cell_type": "code",
      "metadata": {
        "id": "qU_OWMqsQ50a",
        "colab_type": "code",
        "outputId": "6b3a9895-0840-4a08-c84f-97f19643c448",
        "colab": {
          "base_uri": "https://localhost:8080/",
          "height": 51
        }
      },
      "source": [
        "# epoch = 20\n",
        "total6 = 0\n",
        "correct6 = 0\n",
        "with torch.no_grad():\n",
        "  for i in range(0,len(train)):\n",
        "   inputs = Variable(train[i].view(1,25,4096))\n",
        "   targets = train_label[i]\n",
        "   tag_scores = model3(inputs)\n",
        "   _, pred = torch.max(tag_scores.data, 1)\n",
        "   total6 += 1\n",
        "   correct6 += (pred == targets).sum().item()\n",
        "print('Training accuracy is :',correct6/total6*100)\n",
        "\n",
        "total7 = 0\n",
        "correct7 = 0\n",
        "with torch.no_grad():\n",
        "  for i in range(0,len(test)):\n",
        "   inputs = Variable(test[i].view(1,25,4096))\n",
        "   targets = test_label[i]\n",
        "   tag_scores = model3(inputs)\n",
        "   _, pred = torch.max(tag_scores.data, 1)\n",
        "   total7 += 1\n",
        "   correct7 += (pred == targets).sum().item()\n",
        "print('Testing accuracy is :',correct7/total7*100)"
      ],
      "execution_count": 0,
      "outputs": [
        {
          "output_type": "stream",
          "text": [
            "Training accuracy is : 32.21253632212536\n",
            "Testing accuracy is : 27.865404837013667\n"
          ],
          "name": "stdout"
        }
      ]
    },
    {
      "cell_type": "code",
      "metadata": {
        "id": "YcbqwVZ8eH3z",
        "colab_type": "code",
        "outputId": "124f6ab0-ec0c-434e-e784-0a17baec2c3f",
        "colab": {
          "base_uri": "https://localhost:8080/",
          "height": 51
        }
      },
      "source": [
        "# epoch = 50\n",
        "total8 = 0\n",
        "correct8 = 0\n",
        "with torch.no_grad():\n",
        "  for i in range(0,len(train)):\n",
        "   inputs = Variable(train[i].view(1,25,4096))\n",
        "   targets = train_label[i]\n",
        "   tag_scores = model4(inputs)\n",
        "   _, pred = torch.max(tag_scores.data, 1)\n",
        "   total8 += 1\n",
        "   correct8 += (pred == targets).sum().item()\n",
        "print('Training accuracy is :',correct8/total8*100)\n",
        "\n",
        "total9 = 0\n",
        "correct9 = 0\n",
        "with torch.no_grad():\n",
        "  for i in range(0,len(test)):\n",
        "   inputs = Variable(test[i].view(1,25,4096))\n",
        "   targets = test_label[i]\n",
        "   tag_scores = model4(inputs)\n",
        "   _, pred = torch.max(tag_scores.data, 1)\n",
        "   total9 += 1\n",
        "   correct9 += (pred == targets).sum().item()\n",
        "print('Testing accuracy is :',correct9/total9*100)"
      ],
      "execution_count": 0,
      "outputs": [
        {
          "output_type": "stream",
          "text": [
            "Training accuracy is : 67.78746367787464\n",
            "Testing accuracy is : 52.05047318611987\n"
          ],
          "name": "stdout"
        }
      ]
    },
    {
      "cell_type": "code",
      "metadata": {
        "id": "EMG6OS8QhXY8",
        "colab_type": "code",
        "colab": {
          "base_uri": "https://localhost:8080/",
          "height": 51
        },
        "outputId": "b3ee2554-d396-4ef5-956c-55c5dcdf6475"
      },
      "source": [
        "# epoch = 100\n",
        "total10 = 0\n",
        "correct10 = 0\n",
        "with torch.no_grad():\n",
        "  for i in range(0,len(train)):\n",
        "   inputs = Variable(train[i].view(1,25,4096))\n",
        "   targets = train_label[i]\n",
        "   tag_scores = model5(inputs)\n",
        "   _, pred = torch.max(tag_scores.data, 1)\n",
        "   total10 += 1\n",
        "   correct10 += (pred == targets).sum().item()\n",
        "print('Training accuracy is :',correct10/total10*100)\n",
        "\n",
        "total11 = 0\n",
        "correct11 = 0\n",
        "with torch.no_grad():\n",
        "  for i in range(0,len(test)):\n",
        "   inputs = Variable(test[i].view(1,25,4096))\n",
        "   targets = test_label[i]\n",
        "   tag_scores = model5(inputs)\n",
        "   _, pred = torch.max(tag_scores.data, 1)\n",
        "   total11 += 1\n",
        "   correct11 += (pred == targets).sum().item()\n",
        "print('Testing accuracy is :',correct11/total11*100)"
      ],
      "execution_count": 10,
      "outputs": [
        {
          "output_type": "stream",
          "text": [
            "Training accuracy is : 39.10336239103363\n",
            "Testing accuracy is : 29.33753943217666\n"
          ],
          "name": "stdout"
        }
      ]
    },
    {
      "cell_type": "markdown",
      "metadata": {
        "colab_type": "text",
        "id": "eesNQn6FYKQz"
      },
      "source": [
        "* ##### **Print the train and test and test accuracy of SVM** "
      ]
    },
    {
      "cell_type": "code",
      "metadata": {
        "id": "d1ACkbRQiQBU",
        "colab_type": "code",
        "colab": {}
      },
      "source": [
        "train_svc = []\n",
        "train_svc_label = []\n",
        "for i in range(0,len(train)):\n",
        "  train_svc.append(train[i])\n",
        "  for j in range(0,25):\n",
        "    train_svc_label.append(train_label[i])\n",
        "train_svc = torch.cat(train_svc).numpy()\n",
        "train_svc_label = torch.cat(train_svc_label).numpy()\n",
        "\n",
        "test_svc = []\n",
        "test_svc_label = []\n",
        "for i in range(0,len(test)):\n",
        "  test_svc.append(test[i])\n",
        "  for j in range(0,25):\n",
        "    test_svc_label.append(test_label[i])\n",
        "test_svc = torch.cat(test_svc).numpy()\n",
        "test_svc_label = torch.cat(test_svc_label).numpy()"
      ],
      "execution_count": 0,
      "outputs": []
    },
    {
      "cell_type": "code",
      "metadata": {
        "colab_type": "code",
        "id": "ip87hPqTYJtr",
        "colab": {}
      },
      "source": [
        "# Don't hardcode the train and test accuracy\n",
        "from sklearn.svm import LinearSVC\n",
        "model1 = LinearSVC()\n",
        "model1.fit(train_svc, train_svc_label)\n",
        "pred1 = model1.predict(test_svc)"
      ],
      "execution_count": 0,
      "outputs": []
    },
    {
      "cell_type": "code",
      "metadata": {
        "id": "5WWzF4ASqhrk",
        "colab_type": "code",
        "outputId": "8665acbe-5b32-40d2-cf6b-5bdeeb0e50bf",
        "colab": {
          "base_uri": "https://localhost:8080/",
          "height": 34
        }
      },
      "source": [
        "correct2 = 0\n",
        "total2 = len(pred1)\n",
        "correct2 =+ (pred1 == test_svc_label).sum().item()\n",
        "print('Testing accuracy is:',correct2/total2*100)"
      ],
      "execution_count": 0,
      "outputs": [
        {
          "output_type": "stream",
          "text": [
            "Testing accuracy is: 80.64353312302839\n"
          ],
          "name": "stdout"
        }
      ]
    },
    {
      "cell_type": "markdown",
      "metadata": {
        "colab_type": "text",
        "id": "cL4Y3nHBkwmb"
      },
      "source": [
        "## **Problem 4.** Report"
      ]
    },
    {
      "cell_type": "markdown",
      "metadata": {
        "id": "JbzpDeRRNuHj",
        "colab_type": "text"
      },
      "source": [
        "## **Bonus**\n"
      ]
    },
    {
      "cell_type": "markdown",
      "metadata": {
        "colab_type": "text",
        "id": "jPrhLzuyN-rr"
      },
      "source": [
        "* ##### **Print the size of your training and test data**"
      ]
    },
    {
      "cell_type": "code",
      "metadata": {
        "id": "b8IR6zrwOENz",
        "colab_type": "code",
        "colab": {}
      },
      "source": [
        "# Don't hardcode the shape of train and test data\n",
        "print('Shape of training data is :', )\n",
        "print('Shape of test/validation data is :', )"
      ],
      "execution_count": 0,
      "outputs": []
    },
    {
      "cell_type": "markdown",
      "metadata": {
        "colab_type": "text",
        "id": "GAakVg8-OE_j"
      },
      "source": [
        "* ##### **Modelling and evaluation**"
      ]
    },
    {
      "cell_type": "code",
      "metadata": {
        "id": "QHbPzkcoObLb",
        "colab_type": "code",
        "colab": {}
      },
      "source": [
        "#Write your code for modelling and evaluation"
      ],
      "execution_count": 0,
      "outputs": []
    },
    {
      "cell_type": "markdown",
      "metadata": {
        "colab_type": "text",
        "id": "vb4Wlzw2jYcJ"
      },
      "source": [
        "## Submission\n",
        "---\n",
        "**Runnable source code in ipynb file and a pdf report are required**.\n",
        "\n",
        "The report should be of 3 to 4 pages describing what you have done and learned in this homework and report performance of your model. If you have tried multiple methods, please compare your results. If you are using any external code, please cite it in your report. Note that this homework is designed to help you explore and get familiar with the techniques. The final grading will be largely based on your prediction accuracy and the different methods you tried (different architectures and parameters).\n",
        "\n",
        "Please indicate clearly in your report what model you have tried, what techniques you applied to improve the performance and report their accuracies. The report should be concise and include the highlights of your efforts.\n",
        "The naming convention for report is **Surname_Givenname_SBUID_report*.pdf**\n",
        "\n",
        "When submitting your .zip file through blackboard, please\n",
        "-- name your .zip file as **Surname_Givenname_SBUID_hw*.zip**.\n",
        "\n",
        "This zip file should include:\n",
        "```\n",
        "Surname_Givenname_SBUID_hw*\n",
        "        |---Surname_Givenname_SBUID_hw*.ipynb\n",
        "        |---Surname_Givenname_SBUID_hw*.pdf\n",
        "        |---Surname_Givenname_SBUID_report*.pdf\n",
        "```\n",
        "\n",
        "For instance, student Michael Jordan should submit a zip file named \"Jordan_Michael_111134567_hw5.zip\" for homework5 in this structure:\n",
        "```\n",
        "Jordan_Michael_111134567_hw5\n",
        "        |---Jordan_Michael_111134567_hw5.ipynb\n",
        "        |---Jordan_Michael_111134567_hw5.pdf\n",
        "        |---Jordan_Michael_111134567_report*.pdf\n",
        "```\n",
        "\n",
        "The **Surname_Givenname_SBUID_hw*.pdf** should include a **google shared link**. To generate the **google shared link**, first create a folder named **Surname_Givenname_SBUID_hw*** in your Google Drive with your Stony Brook account. \n",
        "\n",
        "Then right click this folder, click ***Get shareable link***, in the People textfield, enter two TA's emails: ***bo.cao.1@stonybrook.edu*** and ***sayontan.ghosh@stonybrook.edu***. Make sure that TAs who have the link **can edit**, ***not just*** **can view**, and also **uncheck** the **Notify people** box.\n",
        "\n",
        "Colab has a good feature of version control, you should take advantage of this to save your work properly. However, the timestamp of the submission made in blackboard is the only one that we consider for grading. To be more specific, we will only grade the version of your code right before the timestamp of the submission made in blackboard. \n",
        "\n",
        "You are encouraged to post and answer questions on Piazza. Based on the amount of email that we have received in past years, there might be dealys in replying to personal emails. Please ask questions on Piazza and send emails only for personal issues.\n",
        "\n",
        "Be aware that your code will undergo plagiarism check both vertically and horizontally. Please do your own work."
      ]
    }
  ]
}
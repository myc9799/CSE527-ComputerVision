{
  "nbformat": 4,
  "nbformat_minor": 0,
  "metadata": {
    "anaconda-cloud": {},
    "kernelspec": {
      "name": "python3",
      "display_name": "Python 3"
    },
    "language_info": {
      "codemirror_mode": {
        "name": "ipython",
        "version": 3
      },
      "file_extension": ".py",
      "mimetype": "text/x-python",
      "name": "python",
      "nbconvert_exporter": "python",
      "pygments_lexer": "ipython3",
      "version": "3.7.3"
    },
    "colab": {
      "name": "CSE527_HW4_Fall19.ipynb",
      "provenance": [],
      "collapsed_sections": []
    },
    "accelerator": "TPU"
  },
  "cells": [
    {
      "cell_type": "markdown",
      "metadata": {
        "id": "XSfnuObtYYMH",
        "colab_type": "text"
      },
      "source": [
        "# CSE527 Homework 4\n",
        "**Due date: 23:59 on Nov. 5, 2019 (Thuesday)**\n",
        "\n",
        "In this semester, we will use Google Colab for the assignments, which allows us to utilize resources that some of us might not have in their local machines such as GPUs. You will need to use your Stony Brook (*.stonybrook.edu) account for coding and Google Drive to save your results.\n",
        "\n",
        "## Google Colab Tutorial\n",
        "---\n",
        "Go to https://colab.research.google.com/notebooks/, you will see a tutorial named \"Welcome to Colaboratory\" file, where you can learn the basics of using google colab.\n",
        "\n",
        "Settings used for assignments: ***Edit -> Notebook Settings -> Runtime Type (Python 3)***.\n",
        "\n",
        "\n",
        "## Description\n",
        "---\n",
        "This project is an introduction to deep learning tools for computer vision. You will design and train deep convolutional networks for scene recognition using [PyTorch](http://pytorch.org). You can visualize the\n",
        "structure of the network with [mNeuron] (http://vision03.csail.mit.edu/cnn_art/index.html)\n",
        "\n",
        "Remember Homework 3: Scene recognition with bag of words. You worked hard to design a bag of features representations that achieved 60% to 70% accuracy (most likely) on 16-way scene classification. We're going to attack the same task with deep learning and get higher accuracy. Training from scratch won't work quite as well as homework 3 due to the insufficient amount of data, fine-tuning an existing network will work much better than homework 3.\n",
        "\n",
        "In Problem 1 of the project you will train a deep convolutional network from scratch to recognize scenes. The starter codes gives you methods to load data and display them. You will need to define a simple network architecture and add jittering, normalization, and regularization to increase recognition accuracy to 50, 60, or perhaps 70%. Unfortunately, we only have 2,400 training examples so it doesn't seem possible to train a network from scratch which outperforms hand-crafted features\n",
        "\n",
        "For Problem 2 you will instead fine-tune a pre-trained deep network to achieve about 85% accuracy on the task. We will use the pretrained AlexNet network which was not trained to recognize scenes at all. \n",
        "\n",
        "These two approaches represent the most common approaches to recognition problems in computer vision today -- train a deep network from scratch if you have enough data (it's not always obvious whether or not you do), and if you cannot then instead fine-tune a pre-trained network.\n",
        "\n",
        "There are 2 problems in this homework with a total of 110 points including 10 bonus points. Be sure to read **Submission Guidelines** below. They are important. For the problems requiring text descriptions, you might want to add a markdown block for that.\n",
        "\n",
        "## Dataset\n",
        "---\n",
        "Save the [dataset(click me)](https://drive.google.com/open?id=1NWC3TMsXSWN2TeoYMCjhf2N1b-WRDh-M) into your working folder in your Google Drive for this homework. <br>\n",
        "Under your root folder, there should be a folder named \"data\" (i.e. XXX/Surname_Givenname_SBUID/data) containing the images.\n",
        "**Do not upload** the data subfolder before submitting on blackboard due to size limit. There should be only one .ipynb file under your root folder Surname_Givenname_SBUID.\n",
        "\n",
        "## Some Tutorials (PyTorch)\n",
        "---\n",
        "- You will be using PyTorch for deep learning toolbox (follow the [link](http://pytorch.org) for installation).\n",
        "- For PyTorch beginners, please read this [tutorial](http://pytorch.org/tutorials/beginner/deep_learning_60min_blitz.html) before doing your homework.\n",
        "- Feel free to study more tutorials at http://pytorch.org/tutorials/.\n",
        "- Find cool visualization here at http://playground.tensorflow.org.\n",
        "\n",
        "\n",
        "## Starter Code\n",
        "---\n",
        "In the starter code, you are provided with a function that loads data into minibatches for training and testing in PyTorch."
      ]
    },
    {
      "cell_type": "code",
      "metadata": {
        "id": "0UA6WFgcYYMI",
        "colab_type": "code",
        "colab": {}
      },
      "source": [
        "# import packages here\n",
        "import cv2\n",
        "import os\n",
        "import numpy as np\n",
        "import matplotlib.pyplot as plt\n",
        "import glob\n",
        "import random \n",
        "import time\n",
        "from torchvision import models\n",
        "import time, copy\n",
        "import imutils\n",
        "import torchvision.models as models\n",
        "\n",
        "import torch\n",
        "import torchvision\n",
        "import torchvision.transforms as transforms\n",
        "\n",
        "from torch.autograd import Variable\n",
        "import torch.nn as nn\n",
        "import torch.nn.functional as F\n",
        "import torch.utils.data as Data\n",
        "from sklearn.svm import LinearSVC"
      ],
      "execution_count": 0,
      "outputs": []
    },
    {
      "cell_type": "code",
      "metadata": {
        "id": "L7T72O-1ks-a",
        "colab_type": "code",
        "outputId": "01a1ca0f-72f3-46a3-93a9-15187fb2783d",
        "colab": {
          "base_uri": "https://localhost:8080/",
          "height": 122
        }
      },
      "source": [
        "# Mount your google drive where you've saved your assignment folder\n",
        "from google.colab import drive\n",
        "drive.mount('/content/gdrive')"
      ],
      "execution_count": 2,
      "outputs": [
        {
          "output_type": "stream",
          "text": [
            "Go to this URL in a browser: https://accounts.google.com/o/oauth2/auth?client_id=947318989803-6bn6qk8qdgf4n4g3pfee6491hc0brc4i.apps.googleusercontent.com&redirect_uri=urn%3Aietf%3Awg%3Aoauth%3A2.0%3Aoob&scope=email%20https%3A%2F%2Fwww.googleapis.com%2Fauth%2Fdocs.test%20https%3A%2F%2Fwww.googleapis.com%2Fauth%2Fdrive%20https%3A%2F%2Fwww.googleapis.com%2Fauth%2Fdrive.photos.readonly%20https%3A%2F%2Fwww.googleapis.com%2Fauth%2Fpeopleapi.readonly&response_type=code\n",
            "\n",
            "Enter your authorization code:\n",
            "··········\n",
            "Mounted at /content/gdrive\n"
          ],
          "name": "stdout"
        }
      ]
    },
    {
      "cell_type": "code",
      "metadata": {
        "id": "wz7CQjOPHxtR",
        "colab_type": "code",
        "outputId": "40a45dbc-a73a-4efc-8b59-376aa31c83e6",
        "colab": {
          "base_uri": "https://localhost:8080/",
          "height": 136
        }
      },
      "source": [
        "os.listdir()"
      ],
      "execution_count": 4,
      "outputs": [
        {
          "output_type": "execute_result",
          "data": {
            "text/plain": [
              "['data',\n",
              " 'test.pkl',\n",
              " 'train.pkl',\n",
              " 'Ma_Yuchen_112877697_hw3.pdf',\n",
              " 'Ma_Yuchen_112877697_hw3.ipynb',\n",
              " 'Ma_Yuchen_112877697_Pred.pages',\n",
              " '1.jpg']"
            ]
          },
          "metadata": {
            "tags": []
          },
          "execution_count": 4
        }
      ]
    },
    {
      "cell_type": "code",
      "metadata": {
        "id": "vDm0rVZgHfxd",
        "colab_type": "code",
        "outputId": "efe23f6a-9502-4c0b-d797-13dd648134b3",
        "colab": {
          "base_uri": "https://localhost:8080/",
          "height": 34
        }
      },
      "source": [
        "# Set your working directory (in your google drive)\n",
        "# Note that 'gdrive/My Drive/Y2019Fall/CSE-527-Intro-To-Computer-Vision/hw4' is just an example, \n",
        "#   change it to your specific homework directory.\n",
        "cd '/content/gdrive/My Drive/2019FALL/CSE527/Ma_Yuchen_112877697_hw3'"
      ],
      "execution_count": 3,
      "outputs": [
        {
          "output_type": "stream",
          "text": [
            "/content/gdrive/My Drive/2019FALL/CSE527/Ma_Yuchen_112877697_hw3\n"
          ],
          "name": "stdout"
        }
      ]
    },
    {
      "cell_type": "code",
      "metadata": {
        "id": "0NxnBcUqk_9B",
        "colab_type": "code",
        "outputId": "b3d41de3-1570-4fa2-be50-f3e9707acd2c",
        "colab": {
          "base_uri": "https://localhost:8080/",
          "height": 54
        }
      },
      "source": [
        "# ==========================================\n",
        "#    Load Training Data and Testing Data\n",
        "# ==========================================\n",
        "class_names = [name[13:] for name in glob.glob('./data/train/*')]\n",
        "class_names = dict(zip(range(len(class_names)), class_names))\n",
        "print(\"class_names: %s \" % class_names)\n",
        "n_train_samples = 150\n",
        "n_test_samples = 50\n",
        "\n",
        "def img_zero_center(img):\n",
        "  res = img - np.mean(img)\n",
        "  return res\n",
        "\n",
        "def img_mirror(img):\n",
        "  res = cv2.flip(img, 1)\n",
        "  return res\n",
        "\n",
        "def img_norm(img):\n",
        "  res = cv2.normalize(src=img, dst=None, alpha=-1, beta=1, norm_type=cv2.NORM_MINMAX,\n",
        "                    dtype=cv2.CV_32FC1)\n",
        "  return res\n",
        "\n",
        "def load_dataset(path, img_size, num_per_class=-1, batch_num=1, shuffle=False, augment=False, is_color=False,\n",
        "                rotate=False, zero_centered=False):\n",
        "    \n",
        "    data = []\n",
        "    labels = []\n",
        "    \n",
        "    if is_color:\n",
        "        channel_num = 3\n",
        "    else:\n",
        "        channel_num = 1\n",
        "        \n",
        "    # read images and resizing\n",
        "    for id, class_name in class_names.items():\n",
        "        print(\"Loading images from class: %s\" % id)\n",
        "        img_path_class = glob.glob(path + class_name + '/*.jpg')\n",
        "        if num_per_class > 0:\n",
        "            img_path_class = img_path_class[:num_per_class]\n",
        "        labels.extend([id]*len(img_path_class))\n",
        "        for filename in img_path_class:\n",
        "            if is_color:\n",
        "                img = cv2.imread(filename)\n",
        "            else:\n",
        "                img = cv2.imread(filename, 0)\n",
        "            \n",
        "            # resize the image\n",
        "            img = cv2.resize(img, img_size, cv2.INTER_LINEAR)\n",
        "            \n",
        "            if is_color:\n",
        "                img = np.transpose(img, [2, 0, 1])\n",
        "            \n",
        "            # norm pixel values to [-1, 1]\n",
        "            data.append(img_norm(img))\n",
        "\n",
        "    #\n",
        "    # Write your Data Augmentation code here\n",
        "    # rotating\n",
        "    #\n",
        "    if rotate:\n",
        "      data_size = len(data)\n",
        "      for i in range(data_size):\n",
        "        data.append(cv2.resize(imutils.rotate_bound(data[i], random.choice([90,180,270])), img_size, cv2.INTER_LINEAR))\n",
        "      labels = labels + labels\n",
        "\n",
        "    #\n",
        "    # Write your Data Augmentation code here\n",
        "    # mirroring\n",
        "    #\n",
        "    if augment:\n",
        "      data_size = len(data)\n",
        "      for i in range(data_size):\n",
        "        data.append(cv2.flip(data[i], 1))\n",
        "      labels = labels + labels\n",
        "            \n",
        "    #\n",
        "    # Write your Data Normalization code here\n",
        "    # norm data to zero-centered\n",
        "    #\n",
        "    if zero_centered:\n",
        "      data_size = len(data)\n",
        "      mean = np.mean(data, axis=0)\n",
        "      for i in range(data_size):\n",
        "        data[i] = data[i] - mean\n",
        "        # data[i] = data[i] - np.mean(data[i])\n",
        "     \n",
        "    # randomly permute (this step is important for training)\n",
        "    if shuffle:\n",
        "        bundle = list(zip(data, labels))\n",
        "        random.shuffle(bundle)\n",
        "        data, labels = zip(*bundle)\n",
        "    \n",
        "    # divide data into minibatches of TorchTensors\n",
        "    if batch_num > 1:\n",
        "        batch_data = []\n",
        "        batch_labels = []\n",
        "        \n",
        "        print(len(data))\n",
        "        print(batch_num)\n",
        "        \n",
        "        for i in range(int(len(data) / batch_num)):\n",
        "            minibatch_d = data[i*batch_num: (i+1)*batch_num]\n",
        "            minibatch_d = np.reshape(minibatch_d, (batch_num, channel_num, img_size[0], img_size[1]))\n",
        "            batch_data.append(torch.from_numpy(minibatch_d))\n",
        "\n",
        "            minibatch_l = labels[i*batch_num: (i+1)*batch_num]\n",
        "            batch_labels.append(torch.LongTensor(minibatch_l))\n",
        "        data, labels = batch_data, batch_labels \n",
        "    \n",
        "    return zip(batch_data, batch_labels)"
      ],
      "execution_count": 5,
      "outputs": [
        {
          "output_type": "stream",
          "text": [
            "class_names: {0: 'Forest', 1: 'Industrial', 2: 'Flower', 3: 'Coast', 4: 'InsideCity', 5: 'Office', 6: 'Bedroom', 7: 'Highway', 8: 'Street', 9: 'TallBuilding', 10: 'LivingRoom', 11: 'Suburb', 12: 'OpenCountry', 13: 'Mountain', 14: 'Kitchen', 15: 'Store'} \n"
          ],
          "name": "stdout"
        }
      ]
    },
    {
      "cell_type": "code",
      "metadata": {
        "id": "wHI2VYbDloje",
        "colab_type": "code",
        "outputId": "6a11beb3-85f0-4b49-f638-3da53e19d801",
        "colab": {
          "base_uri": "https://localhost:8080/",
          "height": 663
        }
      },
      "source": [
        "# load data into size (64, 64)\n",
        "img_size = (64, 64)\n",
        "batch_num = 50 # training sample number per batch\n",
        "\n",
        "# load training dataset\n",
        "trainloader_small = list(load_dataset('./data/train/', img_size, batch_num=batch_num, shuffle=True, \n",
        "                                      augment=True, zero_centered=True))\n",
        "train_num = len(trainloader_small)\n",
        "print(\"Finish loading %d minibatches(=%d) of training samples.\" % (train_num, batch_num))\n",
        "\n",
        "# load testing dataset\n",
        "testloader_small = list(load_dataset('./data/test/', img_size, num_per_class=50, batch_num=batch_num))\n",
        "test_num = len(testloader_small)\n",
        "print(\"Finish loading %d minibatches(=%d) of testing samples.\" % (test_num, batch_num))"
      ],
      "execution_count": 6,
      "outputs": [
        {
          "output_type": "stream",
          "text": [
            "Loading images from class: 0\n",
            "Loading images from class: 1\n",
            "Loading images from class: 2\n",
            "Loading images from class: 3\n",
            "Loading images from class: 4\n",
            "Loading images from class: 5\n",
            "Loading images from class: 6\n",
            "Loading images from class: 7\n",
            "Loading images from class: 8\n",
            "Loading images from class: 9\n",
            "Loading images from class: 10\n",
            "Loading images from class: 11\n",
            "Loading images from class: 12\n",
            "Loading images from class: 13\n",
            "Loading images from class: 14\n",
            "Loading images from class: 15\n",
            "4800\n",
            "50\n",
            "Finish loading 96 minibatches(=50) of training samples.\n",
            "Loading images from class: 0\n",
            "Loading images from class: 1\n",
            "Loading images from class: 2\n",
            "Loading images from class: 3\n",
            "Loading images from class: 4\n",
            "Loading images from class: 5\n",
            "Loading images from class: 6\n",
            "Loading images from class: 7\n",
            "Loading images from class: 8\n",
            "Loading images from class: 9\n",
            "Loading images from class: 10\n",
            "Loading images from class: 11\n",
            "Loading images from class: 12\n",
            "Loading images from class: 13\n",
            "Loading images from class: 14\n",
            "Loading images from class: 15\n",
            "400\n",
            "50\n",
            "Finish loading 8 minibatches(=50) of testing samples.\n"
          ],
          "name": "stdout"
        }
      ]
    },
    {
      "cell_type": "code",
      "metadata": {
        "id": "krCXjDOzlq0f",
        "colab_type": "code",
        "outputId": "ca09e12a-4abe-4deb-a577-2c5f65cfe00f",
        "colab": {
          "base_uri": "https://localhost:8080/",
          "height": 285
        }
      },
      "source": [
        "# show some images\n",
        "def imshow(img):\n",
        "    img = img / 2 + 0.5     # unnormalize\n",
        "    npimg = img.numpy()\n",
        "    if len(npimg.shape) > 2:\n",
        "        npimg = np.transpose(img, [1, 2, 0])\n",
        "    plt.figure\n",
        "    plt.imshow(npimg, 'gray')\n",
        "    plt.show()\n",
        "img, label = trainloader_small[0][0][11][0], trainloader_small[0][1][11]\n",
        "label = int(np.array(label))\n",
        "print(class_names[label])\n",
        "imshow(img)"
      ],
      "execution_count": 7,
      "outputs": [
        {
          "output_type": "stream",
          "text": [
            "Office\n"
          ],
          "name": "stdout"
        },
        {
          "output_type": "display_data",
          "data": {
            "image/png": "[encoded data removed]",
            "text/plain": [
              "<Figure size 432x288 with 1 Axes>"
            ]
          },
          "metadata": {
            "tags": []
          }
        }
      ]
    },
    {
      "cell_type": "code",
      "metadata": {
        "id": "9bORjCs2Hz5_",
        "colab_type": "code",
        "outputId": "0ebe8823-ef87-46e3-db9e-4dff2b10421b",
        "colab": {
          "base_uri": "https://localhost:8080/",
          "height": 663
        }
      },
      "source": [
        "# load data into size (64, 64)\n",
        "img_size = (64, 64)\n",
        "batch_num= 50 # training sample number per batch\n",
        "\n",
        "# load training dataset\n",
        "trainloader_r = list(load_dataset('./data/train/', img_size, batch_num=batch_num, shuffle=True, \n",
        "                                      augment=True, rotate = True, zero_centered=True))\n",
        "train_num_r = len(trainloader_r)\n",
        "print(\"Finish loading %d minibatches(=%d) of training samples.\" % (train_num_r, batch_num))\n",
        "\n",
        "# load testing dataset\n",
        "testloader_r = list(load_dataset('./data/test/', img_size, num_per_class=50, batch_num=batch_num))\n",
        "test_num_r = len(testloader_r)\n",
        "print(\"Finish loading %d minibatches(=%d) of testing samples.\" % (test_num_r, batch_num))"
      ],
      "execution_count": 11,
      "outputs": [
        {
          "output_type": "stream",
          "text": [
            "Loading images from class: 0\n",
            "Loading images from class: 1\n",
            "Loading images from class: 2\n",
            "Loading images from class: 3\n",
            "Loading images from class: 4\n",
            "Loading images from class: 5\n",
            "Loading images from class: 6\n",
            "Loading images from class: 7\n",
            "Loading images from class: 8\n",
            "Loading images from class: 9\n",
            "Loading images from class: 10\n",
            "Loading images from class: 11\n",
            "Loading images from class: 12\n",
            "Loading images from class: 13\n",
            "Loading images from class: 14\n",
            "Loading images from class: 15\n",
            "9600\n",
            "50\n",
            "Finish loading 192 minibatches(=50) of training samples.\n",
            "Loading images from class: 0\n",
            "Loading images from class: 1\n",
            "Loading images from class: 2\n",
            "Loading images from class: 3\n",
            "Loading images from class: 4\n",
            "Loading images from class: 5\n",
            "Loading images from class: 6\n",
            "Loading images from class: 7\n",
            "Loading images from class: 8\n",
            "Loading images from class: 9\n",
            "Loading images from class: 10\n",
            "Loading images from class: 11\n",
            "Loading images from class: 12\n",
            "Loading images from class: 13\n",
            "Loading images from class: 14\n",
            "Loading images from class: 15\n",
            "400\n",
            "50\n",
            "Finish loading 8 minibatches(=50) of testing samples.\n"
          ],
          "name": "stdout"
        }
      ]
    },
    {
      "cell_type": "markdown",
      "metadata": {
        "id": "JGA-K6QzYYMR",
        "colab_type": "text"
      },
      "source": [
        "## Problem 1: Training a Network From Scratch\n",
        "{Part 1: 35 points} Gone are the days of hand designed features. Now we have end-to-end learning in which a highly non-linear representation is learned for our data to maximize our objective (in this case, 16-way classification accuracy). Instead of 70% accuracy we can now recognize scenes with... 25% accuracy. OK, that didn't work at all. Try to boost the accuracy by doing the following:\n",
        "\n",
        "**Data Augmentation**: We don't have enough training data, let's augment the training data.\n",
        "If you left-right flip (mirror) an image of a scene, it never changes categories. A kitchen doesn't become a forest when mirrored. This isn't true in all domains — a \"d\" becomes a \"b\" when mirrored, so you can't \"jitter\" digit recognition training data in the same way. But we can synthetically increase our amount of training data by left-right mirroring training images during the learning process.\n",
        "\n",
        "After you implement mirroring, you should notice that your training error doesn't drop as quickly. That's actually a good thing, because it means the network isn't overfitting to the 2,400 original training images as much (because it sees 4,800 training images now, although they're not as good as 4,800 truly independent samples). Because the training and test errors fall more slowly, you may need more training epochs or you may try modifying the learning rate. You should see a roughly 10% increase in accuracy by adding mirroring. You are **required** to implement mirroring as data augmentation for this part.\n",
        "\n",
        "You can try more elaborate forms of jittering -- zooming in a random amount, rotating a random amount, taking a random crop, etc. These are not required, you might want to try these in the bonus part.\n",
        "\n",
        "**Data Normalization**: The images aren't zero-centered. One simple trick which can help a lot is to subtract the mean from every image. It would arguably be more proper to only compute the mean from the training images (since the test/validation images should be strictly held out) but it won't make much of a difference. After doing this you should see another 15% or so increase in accuracy. This part is **required**.\n",
        "\n",
        "**Network Regularization**: Add dropout layer. If you train your network (especially for more than the default 30 epochs) you'll see that the training error can decrease to zero while the val top1 error hovers at 40% to 50%. The network has learned weights which can perfectly recognize the training data, but those weights don't generalize to held out test data. The best regularization would be more training data but we don't have that. Instead we will use dropout regularization.\n",
        "\n",
        "What does dropout regularization do? It randomly turns off network connections at training time to fight overfitting. This prevents a unit in one layer from relying too strongly on a single unit in the previous layer. Dropout regularization can be interpreted as simultaneously training many \"thinned\" versions of your network. At test, all connections are restored which is analogous to taking an average prediction over all of the \"thinned\" networks. You can see a more complete discussion of dropout regularization in this [paper](https://www.cs.toronto.edu/~hinton/absps/JMLRdropout.pdf).\n",
        "\n",
        "The dropout layer has only one free parameter — the dropout rate — the proportion of connections that are randomly deleted. The default of 0.5 should be fine. Insert a dropout layer between your convolutional layers. In particular, insert it directly before your last convolutional layer. Your test accuracy should increase by another 10%. Your train accuracy should decrease much more slowly. That's to be expected — you're making life much harder for the training algorithm by cutting out connections randomly. \n",
        "\n",
        "If you increase the number of training epochs (and maybe decrease the learning rate) you should be able to achieve around 50% test accuracy. In this part, you are **required** to add dropout layer to your network.\n",
        "\n",
        "Please give detailed descriptions of your network layout in the following format:<br>\n",
        "Data augmentation: [descriptions]<br>\n",
        "Data normalization: [descriptions]<br>\n",
        "Layer 1: [layer_type]: [Parameters]<br>\n",
        "Layer 2: [layer_type]: [Parameters]<br>\n",
        "...<br>\n",
        "Then report the final accuracy on test set and time consumed for training and testing separately.\n",
        "\n",
        "{Part 2: 15 points} Try **three techniques** taught in the class to increase the accuracy of your model. Such as increasing training data by randomly rotating training images, adding batch normalization, different activation functions (e.g., sigmoid) and model architecture modification. Note that too many layers can do you no good due to insufficient training data. Clearly describe your method and accuracy increase/decrease for each of the three techniques."
      ]
    },
    {
      "cell_type": "code",
      "metadata": {
        "id": "clXaGdwaoIL7",
        "colab_type": "code",
        "outputId": "400392bb-9e0f-4964-e3c1-510d581f65cd",
        "colab": {
          "base_uri": "https://localhost:8080/",
          "height": 510
        }
      },
      "source": [
        "EPOCH = 30\n",
        "LR = 0.001\n",
        "# ==========================================\n",
        "#       Define Network Architecture\n",
        "# ==========================================\n",
        "class CNN(nn.Module):\n",
        "    def __init__(self):\n",
        "        super(CNN, self).__init__()\n",
        "        self.conv1 = nn.Sequential( \n",
        "            nn.Conv2d(1, 16, 3, 1,1),\n",
        "            nn.ReLU()\n",
        "        )\n",
        "        self.conv2 = nn.Sequential( \n",
        "            nn.Conv2d(16, 32, 3, 1,1),\n",
        "            nn.ReLU(),  \n",
        "            nn.MaxPool2d(2)\n",
        "        )\n",
        "        self.conv3 = nn.Sequential( \n",
        "            nn.Conv2d(32, 64, 3, 1,1),\n",
        "            nn.ReLU()\n",
        "        )\n",
        "        self.conv4 = nn.Sequential( \n",
        "            nn.Conv2d(64, 128, 3, 1,1),\n",
        "            nn.ReLU(),  \n",
        "            nn.MaxPool2d(2)\n",
        "        )\n",
        "        self.out = nn.Sequential(\n",
        "            nn.Dropout(0.5),\n",
        "            nn.Linear(32768, 1024),\n",
        "            nn.ReLU(),\n",
        "            nn.Dropout(0.5),\n",
        "            nn.Linear(1024, 128),\n",
        "            nn.ReLU(),\n",
        "            nn.Linear(128, 16)\n",
        "        )   \n",
        "\n",
        "    def forward(self, x):\n",
        "        x = self.conv1(x)\n",
        "        x = self.conv2(x)\n",
        "        x = self.conv3(x)\n",
        "        x = self.conv4(x)\n",
        "        x = x.view(x.size(0), -1) \n",
        "        output = self.out(x)\n",
        "        return output\n",
        "\n",
        "cnn = CNN()\n",
        "print(cnn) "
      ],
      "execution_count": 8,
      "outputs": [
        {
          "output_type": "stream",
          "text": [
            "CNN(\n",
            "  (conv1): Sequential(\n",
            "    (0): Conv2d(1, 16, kernel_size=(3, 3), stride=(1, 1), padding=(1, 1))\n",
            "    (1): ReLU()\n",
            "  )\n",
            "  (conv2): Sequential(\n",
            "    (0): Conv2d(16, 32, kernel_size=(3, 3), stride=(1, 1), padding=(1, 1))\n",
            "    (1): ReLU()\n",
            "    (2): MaxPool2d(kernel_size=2, stride=2, padding=0, dilation=1, ceil_mode=False)\n",
            "  )\n",
            "  (conv3): Sequential(\n",
            "    (0): Conv2d(32, 64, kernel_size=(3, 3), stride=(1, 1), padding=(1, 1))\n",
            "    (1): ReLU()\n",
            "  )\n",
            "  (conv4): Sequential(\n",
            "    (0): Conv2d(64, 128, kernel_size=(3, 3), stride=(1, 1), padding=(1, 1))\n",
            "    (1): ReLU()\n",
            "    (2): MaxPool2d(kernel_size=2, stride=2, padding=0, dilation=1, ceil_mode=False)\n",
            "  )\n",
            "  (out): Sequential(\n",
            "    (0): Dropout(p=0.5, inplace=False)\n",
            "    (1): Linear(in_features=32768, out_features=1024, bias=True)\n",
            "    (2): ReLU()\n",
            "    (3): Dropout(p=0.5, inplace=False)\n",
            "    (4): Linear(in_features=1024, out_features=128, bias=True)\n",
            "    (5): ReLU()\n",
            "    (6): Linear(in_features=128, out_features=16, bias=True)\n",
            "  )\n",
            ")\n"
          ],
          "name": "stdout"
        }
      ]
    },
    {
      "cell_type": "code",
      "metadata": {
        "id": "sNJTDG8xoJwH",
        "colab_type": "code",
        "colab": {
          "base_uri": "https://localhost:8080/",
          "height": 34
        },
        "outputId": "3c66d835-da51-4c6a-b7cc-0ee6c00f46cf"
      },
      "source": [
        "# ==========================================\n",
        "#         Optimize/Train Network \n",
        "# ==========================================\n",
        "optimizer = torch.optim.SGD(cnn.parameters(), lr=LR)   \n",
        "loss_func = nn.CrossEntropyLoss() \n",
        "correct = 0\n",
        "total = 0  \n",
        "# training and testing\n",
        "start1 = time.time()\n",
        "for epoch in range(EPOCH):\n",
        "  cnn.train(mode=True)\n",
        "  for step, (data, target) in enumerate(trainloader_small):  \n",
        "    out_put = cnn(data)               \n",
        "    loss = loss_func(out_put, target) \n",
        "    optimizer.zero_grad()           \n",
        "    loss.backward()                \n",
        "    optimizer.step() \n",
        "end1 = time.time() \n",
        "time1= end1 - start1\n",
        "print('The time consumption is ',time1, 'ms')"
      ],
      "execution_count": 9,
      "outputs": [
        {
          "output_type": "stream",
          "text": [
            "The time consumption is  3538.220948457718 ms\n"
          ],
          "name": "stdout"
        }
      ]
    },
    {
      "cell_type": "code",
      "metadata": {
        "id": "m5sadf8qoOW6",
        "colab_type": "code",
        "outputId": "f6ec97e6-fd56-4d48-8199-63bcc62fa6c1",
        "colab": {
          "base_uri": "https://localhost:8080/",
          "height": 34
        }
      },
      "source": [
        "# ==========================================\n",
        "#            Evaluating Network\n",
        "# ==========================================\n",
        "correct = 0\n",
        "total = 0\n",
        "cnn.eval()\n",
        "with torch.no_grad():\n",
        "  for data in testloader_small:\n",
        "    test_data, test_label = data\n",
        "    output = cnn(test_data)\n",
        "    _, pred = torch.max(output.data, 1) \n",
        "    total += test_label.size(0)\n",
        "    correct += (pred == test_label).sum().item()\n",
        "print('The accuracy is ',correct/total*100, '%')"
      ],
      "execution_count": 11,
      "outputs": [
        {
          "output_type": "stream",
          "text": [
            "The accuracy is 47.43 %\n"
          ],
          "name": "stdout"
        }
      ]
    },
    {
      "cell_type": "markdown",
      "metadata": {
        "id": "MLVpLGWVdUT5",
        "colab_type": "text"
      },
      "source": [
        "The following part is with Batch Normalization."
      ]
    },
    {
      "cell_type": "code",
      "metadata": {
        "id": "VNf_rpnBbIs_",
        "colab_type": "code",
        "colab": {
          "base_uri": "https://localhost:8080/",
          "height": 578
        },
        "outputId": "debea143-0582-4400-fdf0-d158e0ca6509"
      },
      "source": [
        "EPOCH = 30\n",
        "LR = 0.001\n",
        "# ==========================================\n",
        "#       Define Network Architecture\n",
        "# ==========================================\n",
        "class CNN_BN(nn.Module):\n",
        "    def __init__(self):\n",
        "        super(CNN_BN, self).__init__()\n",
        "        self.conv1 = nn.Sequential( \n",
        "            nn.Conv2d(1, 16, 3, 1,1),\n",
        "            nn.BatchNorm2d(16),\n",
        "            nn.ReLU()\n",
        "        )\n",
        "        self.conv2 = nn.Sequential( \n",
        "            nn.Conv2d(16, 32, 3, 1,1),\n",
        "            nn.BatchNorm2d(32),\n",
        "            nn.ReLU(),  \n",
        "            nn.MaxPool2d(2)\n",
        "        )\n",
        "        self.conv3 = nn.Sequential( \n",
        "            nn.Conv2d(32, 64, 3, 1,1),\n",
        "            nn.BatchNorm2d(64),\n",
        "            nn.ReLU()\n",
        "        )\n",
        "        self.conv4 = nn.Sequential( \n",
        "            nn.Conv2d(64, 128, 3, 1,1),\n",
        "            nn.BatchNorm2d(128),\n",
        "            nn.ReLU(),  \n",
        "            nn.MaxPool2d(2)\n",
        "        )\n",
        "        self.out = nn.Sequential(\n",
        "            nn.Dropout(0.5),\n",
        "            nn.Linear(32768, 1024),\n",
        "            nn.ReLU(),\n",
        "            nn.Dropout(0.5),\n",
        "            nn.Linear(1024, 128),\n",
        "            nn.ReLU(),\n",
        "            nn.Linear(128, 16)\n",
        "        )   \n",
        "\n",
        "    def forward(self, x):\n",
        "        x = self.conv1(x)\n",
        "        x = self.conv2(x)\n",
        "        x = self.conv3(x)\n",
        "        x = self.conv4(x)\n",
        "        x = x.view(x.size(0), -1) \n",
        "        output = self.out(x)\n",
        "        return output\n",
        "\n",
        "cnn_bn = CNN_BN()\n",
        "print(cnn_bn) "
      ],
      "execution_count": 32,
      "outputs": [
        {
          "output_type": "stream",
          "text": [
            "CNN_BN(\n",
            "  (conv1): Sequential(\n",
            "    (0): Conv2d(1, 16, kernel_size=(3, 3), stride=(1, 1), padding=(1, 1))\n",
            "    (1): BatchNorm2d(16, eps=1e-05, momentum=0.1, affine=True, track_running_stats=True)\n",
            "    (2): ReLU()\n",
            "  )\n",
            "  (conv2): Sequential(\n",
            "    (0): Conv2d(16, 32, kernel_size=(3, 3), stride=(1, 1), padding=(1, 1))\n",
            "    (1): BatchNorm2d(32, eps=1e-05, momentum=0.1, affine=True, track_running_stats=True)\n",
            "    (2): ReLU()\n",
            "    (3): MaxPool2d(kernel_size=2, stride=2, padding=0, dilation=1, ceil_mode=False)\n",
            "  )\n",
            "  (conv3): Sequential(\n",
            "    (0): Conv2d(32, 64, kernel_size=(3, 3), stride=(1, 1), padding=(1, 1))\n",
            "    (1): BatchNorm2d(64, eps=1e-05, momentum=0.1, affine=True, track_running_stats=True)\n",
            "    (2): ReLU()\n",
            "  )\n",
            "  (conv4): Sequential(\n",
            "    (0): Conv2d(64, 128, kernel_size=(3, 3), stride=(1, 1), padding=(1, 1))\n",
            "    (1): BatchNorm2d(128, eps=1e-05, momentum=0.1, affine=True, track_running_stats=True)\n",
            "    (2): ReLU()\n",
            "    (3): MaxPool2d(kernel_size=2, stride=2, padding=0, dilation=1, ceil_mode=False)\n",
            "  )\n",
            "  (out): Sequential(\n",
            "    (0): Dropout(p=0.5, inplace=False)\n",
            "    (1): Linear(in_features=32768, out_features=1024, bias=True)\n",
            "    (2): ReLU()\n",
            "    (3): Dropout(p=0.5, inplace=False)\n",
            "    (4): Linear(in_features=1024, out_features=128, bias=True)\n",
            "    (5): ReLU()\n",
            "    (6): Linear(in_features=128, out_features=16, bias=True)\n",
            "  )\n",
            ")\n"
          ],
          "name": "stdout"
        }
      ]
    },
    {
      "cell_type": "code",
      "metadata": {
        "id": "IgR98LnZb9jC",
        "colab_type": "code",
        "colab": {
          "base_uri": "https://localhost:8080/",
          "height": 34
        },
        "outputId": "ad905710-23ad-4acb-96e5-ab2e44c3e882"
      },
      "source": [
        "# ==========================================\n",
        "#         Optimize/Train Network\n",
        "# ==========================================\n",
        "optimizer = torch.optim.SGD(cnn_bn.parameters(), lr=LR)   \n",
        "loss_func = nn.CrossEntropyLoss()   \n",
        "# training and testing\n",
        "start2 = time.time()\n",
        "for epoch in range(EPOCH):\n",
        "  cnn_bn.train(mode=True)\n",
        "  for step, (data, target) in enumerate(trainloader_small):  \n",
        "    out_put = cnn_bn(data)               \n",
        "    loss = loss_func(out_put, target) \n",
        "    optimizer.zero_grad()           \n",
        "    loss.backward()                \n",
        "    optimizer.step() \n",
        "end2 = time.time() \n",
        "time2 = end2 - start2\n",
        "print('The time consumption is ',time2, 'ms')"
      ],
      "execution_count": 11,
      "outputs": [
        {
          "output_type": "stream",
          "text": [
            "The time consumption is  4663.892763137817 ms\n"
          ],
          "name": "stdout"
        }
      ]
    },
    {
      "cell_type": "code",
      "metadata": {
        "id": "jKxM0690czYb",
        "colab_type": "code",
        "colab": {
          "base_uri": "https://localhost:8080/",
          "height": 34
        },
        "outputId": "f0247150-dc70-4676-889f-e163fef0f6fa"
      },
      "source": [
        "# ==========================================\n",
        "#            Evaluating Network\n",
        "# ==========================================\n",
        "correct = 0\n",
        "total = 0\n",
        "cnn_bn.eval()\n",
        "with torch.no_grad():\n",
        "  for data in testloader_small:\n",
        "    test_data, test_label = data\n",
        "    output = cnn_bn(test_data)\n",
        "    _, pred = torch.max(output.data, 1) \n",
        "    total += test_label.size(0)\n",
        "    correct += (pred == test_label).sum().item()\n",
        "print('The accuracy is ',correct/total*100, '%')"
      ],
      "execution_count": 31,
      "outputs": [
        {
          "output_type": "stream",
          "text": [
            "The accuracy is 63%\n"
          ],
          "name": "stdout"
        }
      ]
    },
    {
      "cell_type": "markdown",
      "metadata": {
        "id": "i3eBn_8jd6gt",
        "colab_type": "text"
      },
      "source": [
        "The following is with extra rotated images."
      ]
    },
    {
      "cell_type": "code",
      "metadata": {
        "id": "N86-oB79dBSk",
        "colab_type": "code",
        "colab": {
          "base_uri": "https://localhost:8080/",
          "height": 34
        },
        "outputId": "0da6bca1-3303-4aff-c46f-f4479d7b11bf"
      },
      "source": [
        "# ==========================================\n",
        "#         Optimize/Train Network\n",
        "# ==========================================\n",
        "optimizer = torch.optim.SGD(cnn_bn.parameters(), lr=LR)   \n",
        "loss_func = nn.CrossEntropyLoss()   \n",
        "# training and testing\n",
        "start3 = time.time()\n",
        "for epoch in range(EPOCH):\n",
        "  cnn_bn.train(mode=True)\n",
        "  for step, (data, target) in enumerate(trainloader_r):  \n",
        "    out_put = cnn_bn(data)               \n",
        "    loss = loss_func(out_put, target) \n",
        "    optimizer.zero_grad()           \n",
        "    loss.backward()                \n",
        "      optimizer.step()\n",
        "end3 = time.time() \n",
        "time3 = end3 - start3\n",
        "print('The time consumption is ',time3, 's')"
      ],
      "execution_count": 14,
      "outputs": [
        {
          "output_type": "stream",
          "text": [
            "The time consumption is  9760.144302845001 ms\n"
          ],
          "name": "stdout"
        }
      ]
    },
    {
      "cell_type": "code",
      "metadata": {
        "id": "shfad8UydK1U",
        "colab_type": "code",
        "colab": {
          "base_uri": "https://localhost:8080/",
          "height": 34
        },
        "outputId": "ea50296b-d66a-44d8-8910-30b1f398ed99"
      },
      "source": [
        "# ==========================================\n",
        "#            Evaluating Network\n",
        "# ==========================================\n",
        "correct = 0\n",
        "total = 0\n",
        "cnn_bn.eval()\n",
        "with torch.no_grad():\n",
        "  for data in testloader_small:\n",
        "    test_data, test_label = data\n",
        "    output = cnn_bn(test_data)\n",
        "    _, pred = torch.max(output.data, 1) \n",
        "    total += test_label.size(0)\n",
        "    correct += (pred == test_label).sum().item()\n",
        "print('The accuracy is ',correct/total*100, '%')"
      ],
      "execution_count": 27,
      "outputs": [
        {
          "output_type": "stream",
          "text": [
            "The accuracy is 52.75%\n"
          ],
          "name": "stdout"
        }
      ]
    },
    {
      "cell_type": "code",
      "metadata": {
        "id": "jwzd1gz4d_7P",
        "colab_type": "code",
        "colab": {}
      },
      "source": [
        "The following part uses a different activiation function."
      ],
      "execution_count": 0,
      "outputs": []
    },
    {
      "cell_type": "code",
      "metadata": {
        "id": "j81B5zmheGUH",
        "colab_type": "code",
        "colab": {
          "base_uri": "https://localhost:8080/",
          "height": 578
        },
        "outputId": "cb91b0f4-d137-403b-f1f0-931b16632393"
      },
      "source": [
        "EPOCH = 30\n",
        "LR = 0.001\n",
        "# ==========================================\n",
        "#       Define Network Architecture\n",
        "# ==========================================\n",
        "class CNN_S(nn.Module):\n",
        "    def __init__(self):\n",
        "        super(CNN_S, self).__init__()\n",
        "        self.conv1 = nn.Sequential( \n",
        "            nn.Conv2d(1, 16, 3, 1,1),\n",
        "            nn.BatchNorm2d(16),\n",
        "            nn.Sigmoid()\n",
        "        )\n",
        "        self.conv2 = nn.Sequential( \n",
        "            nn.Conv2d(16, 32, 3, 1,1),\n",
        "            nn.BatchNorm2d(32),\n",
        "            nn.Sigmoid(),  \n",
        "            nn.MaxPool2d(2)\n",
        "        )\n",
        "        self.conv3 = nn.Sequential( \n",
        "            nn.Conv2d(32, 64, 3, 1,1),\n",
        "            nn.BatchNorm2d(64),\n",
        "            nn.Sigmoid()\n",
        "        )\n",
        "        self.conv4 = nn.Sequential( \n",
        "            nn.Conv2d(64, 128, 3, 1,1),\n",
        "            nn.BatchNorm2d(128),\n",
        "            nn.Sigmoid(), \n",
        "            nn.MaxPool2d(2)\n",
        "        )\n",
        "        self.out = nn.Sequential(\n",
        "            nn.Dropout(0.5),\n",
        "            nn.Linear(32768, 1024),\n",
        "            nn.Sigmoid(),\n",
        "            nn.Dropout(0.5),\n",
        "            nn.Linear(1024, 128),\n",
        "            nn.Sigmoid(),\n",
        "            nn.Linear(128, 16)\n",
        "        )   \n",
        "\n",
        "    def forward(self, x):\n",
        "        x = self.conv1(x)\n",
        "        x = self.conv2(x)\n",
        "        x = self.conv3(x)\n",
        "        x = self.conv4(x)\n",
        "        x = x.view(x.size(0), -1) \n",
        "        output = self.out(x)\n",
        "        return output\n",
        "\n",
        "cnn_s = CNN_S()\n",
        "print(cnn_s) "
      ],
      "execution_count": 44,
      "outputs": [
        {
          "output_type": "stream",
          "text": [
            "CNN_S(\n",
            "  (conv1): Sequential(\n",
            "    (0): Conv2d(1, 16, kernel_size=(3, 3), stride=(1, 1), padding=(1, 1))\n",
            "    (1): BatchNorm2d(16, eps=1e-05, momentum=0.1, affine=True, track_running_stats=True)\n",
            "    (2): Sigmoid()\n",
            "  )\n",
            "  (conv2): Sequential(\n",
            "    (0): Conv2d(16, 32, kernel_size=(3, 3), stride=(1, 1), padding=(1, 1))\n",
            "    (1): BatchNorm2d(32, eps=1e-05, momentum=0.1, affine=True, track_running_stats=True)\n",
            "    (2): Sigmoid()\n",
            "    (3): MaxPool2d(kernel_size=2, stride=2, padding=0, dilation=1, ceil_mode=False)\n",
            "  )\n",
            "  (conv3): Sequential(\n",
            "    (0): Conv2d(32, 64, kernel_size=(3, 3), stride=(1, 1), padding=(1, 1))\n",
            "    (1): BatchNorm2d(64, eps=1e-05, momentum=0.1, affine=True, track_running_stats=True)\n",
            "    (2): Sigmoid()\n",
            "  )\n",
            "  (conv4): Sequential(\n",
            "    (0): Conv2d(64, 128, kernel_size=(3, 3), stride=(1, 1), padding=(1, 1))\n",
            "    (1): BatchNorm2d(128, eps=1e-05, momentum=0.1, affine=True, track_running_stats=True)\n",
            "    (2): Sigmoid()\n",
            "    (3): MaxPool2d(kernel_size=2, stride=2, padding=0, dilation=1, ceil_mode=False)\n",
            "  )\n",
            "  (out): Sequential(\n",
            "    (0): Dropout(p=0.5, inplace=False)\n",
            "    (1): Linear(in_features=32768, out_features=1024, bias=True)\n",
            "    (2): Sigmoid()\n",
            "    (3): Dropout(p=0.5, inplace=False)\n",
            "    (4): Linear(in_features=1024, out_features=128, bias=True)\n",
            "    (5): Sigmoid()\n",
            "    (6): Linear(in_features=128, out_features=16, bias=True)\n",
            "  )\n",
            ")\n"
          ],
          "name": "stdout"
        }
      ]
    },
    {
      "cell_type": "code",
      "metadata": {
        "id": "ad0Xcuz-gJ0T",
        "colab_type": "code",
        "colab": {
          "base_uri": "https://localhost:8080/",
          "height": 544
        },
        "outputId": "4a6edac6-28c4-4e6e-9efb-26d7209a8b78"
      },
      "source": [
        "# ==========================================\n",
        "#         Optimize/Train Network\n",
        "# ==========================================\n",
        "optimizer = torch.optim.SGD(cnn_s.parameters(), lr=LR)   \n",
        "loss_func = nn.CrossEntropyLoss() \n",
        "correct = 0\n",
        "total = 0  \n",
        "# training and testing\n",
        "start4 = time.time()\n",
        "for epoch in range(EPOCH):\n",
        "  cnn_s.train(mode=True)\n",
        "  for step, (data, target) in enumerate(trainloader_small):  \n",
        "    out_put = cnn_s(data)               \n",
        "    loss = loss_func(out_put, target) \n",
        "    optimizer.zero_grad()           \n",
        "    loss.backward()                \n",
        "    optimizer.step()\n",
        "  cnn_s.eval()\n",
        "  with torch.no_grad():\n",
        "    for data in testloader_small:\n",
        "      test_data, test_label = data\n",
        "      output = cnn_s(test_data)\n",
        "      _, pred = torch.max(output.data, 1) \n",
        "      total += test_label.size(0)\n",
        "      correct += (pred == test_label).sum().item()\n",
        "  print('The accuracy is ',correct/total*100, '%')\n",
        "end4 = time.time() \n",
        "time4 = end4 - start4\n",
        "print('The time consumption is ',time4, 'ms')"
      ],
      "execution_count": 45,
      "outputs": [
        {
          "output_type": "stream",
          "text": [
            "The accuracy is  6.25 %\n",
            "The accuracy is  6.25 %\n",
            "The accuracy is  6.25 %\n",
            "The accuracy is  6.1875 %\n",
            "The accuracy is  6.0 %\n",
            "The accuracy is  6.083333333333334 %\n",
            "The accuracy is  6.178571428571429 %\n",
            "The accuracy is  6.3125 %\n",
            "The accuracy is  6.444444444444445 %\n",
            "The accuracy is  6.675000000000001 %\n",
            "The accuracy is  6.909090909090909 %\n",
            "The accuracy is  7.249999999999999 %\n",
            "The accuracy is  7.403846153846154 %\n",
            "The accuracy is  7.482142857142857 %\n",
            "The accuracy is  7.483333333333333 %\n",
            "The accuracy is  7.515624999999999 %\n",
            "The accuracy is  7.647058823529412 %\n",
            "The accuracy is  7.958333333333334 %\n",
            "The accuracy is  8.236842105263158 %\n",
            "The accuracy is  8.4625 %\n",
            "The accuracy is  8.630952380952381 %\n",
            "The accuracy is  8.806818181818182 %\n",
            "The accuracy is  8.978260869565217 %\n",
            "The accuracy is  9.135416666666666 %\n",
            "The accuracy is  9.28 %\n",
            "The accuracy is  9.403846153846155 %\n",
            "The accuracy is  9.527777777777779 %\n",
            "The accuracy is  9.660714285714286 %\n",
            "The accuracy is  9.810344827586206 %\n",
            "The accuracy is  9.941666666666666 %\n",
            "The time consumption is  4979.894843578339 ms\n"
          ],
          "name": "stdout"
        }
      ]
    },
    {
      "cell_type": "code",
      "metadata": {
        "id": "tQAta0T2gCj-",
        "colab_type": "code",
        "colab": {
          "base_uri": "https://localhost:8080/",
          "height": 34
        },
        "outputId": "bdb40c95-a7d4-4a1c-eb11-f177a4ccebad"
      },
      "source": [
        "# ==========================================\n",
        "#            Evaluating Network\n",
        "# ==========================================\n",
        "correct = 0\n",
        "total = 0\n",
        "cnn_s.eval()\n",
        "with torch.no_grad():\n",
        "  for data in testloader_small:\n",
        "    test_data, test_label = data\n",
        "    output = cnn_s(test_data)\n",
        "    _, pred = torch.max(output.data, 1) \n",
        "    total += test_label.size(0)\n",
        "    correct += (pred == test_label).sum().item()\n",
        "print('The accuracy is ',correct/total*100, '%')"
      ],
      "execution_count": 46,
      "outputs": [
        {
          "output_type": "stream",
          "text": [
            "The accuracy is  13.750000000000002 %\n"
          ],
          "name": "stdout"
        }
      ]
    },
    {
      "cell_type": "markdown",
      "metadata": {
        "id": "pKlT3M68igsL",
        "colab_type": "text"
      },
      "source": [
        "\n",
        "**Part 1:**\n",
        "*   Data Augmentation: I use the *cv2.clip()* to mirror every image, in this way I doubled the dataset.\n",
        "*   Data Normalization: I use the *cv2.normalize()* to normalize the value of every pixel in the image to [-1, 1]. \n",
        "*   Layer 1: Convolution: input=1, output=16, kernel_size=(3,3), stride=(1,1), padding=(1,1)\n",
        "*   Layer 2: Convolution: input=16, output=32, kernel_size=(3,3), stride=(1,1), padding=(1,1)\n",
        "*   Layer 3: Maxpooling: kernel_size=2, stride=2, padding=0\n",
        "*   Layer 4: Convolution: input=32, output=64, kernel_size=(3,3), stride=(1,1), padding=(1,1)\n",
        "*   Layer 5: Convolution: input=64, output=128, kernel_size=(3,3), stride=(1,1), padding=(1,1)\n",
        "*   Layer 6: Maxpooling: kernel_size=2, stride=2, padding=0\n",
        "\n"
      ]
    },
    {
      "cell_type": "markdown",
      "metadata": {
        "id": "-OSCDiykm8n3",
        "colab_type": "text"
      },
      "source": [
        "**Part 2:**\n",
        "\n",
        "\n",
        "*   Batch Normalization: In this part, I added the batch normaliztion with parameter(eps=1e-05, momentum=0.1) to the layers and found it very useful.\n",
        "*   Rotate the Images: I randomly rotated the images in three specific angle(90, 180, 270) thus augment the dataset, and found it did not work very well.\n",
        "*   Different Activation Function: I implemented the *Sigmoid* instead of *ReLu* and unfortunately found it work badly.\n",
        "\n"
      ]
    },
    {
      "cell_type": "markdown",
      "metadata": {
        "id": "MIqE64eRodv3",
        "colab_type": "text"
      },
      "source": [
        "**Results Report:**\n",
        "\n",
        "1.   Data Augmentation + Data Normalization + Zero-centered + DropOut:\n",
        "\n",
        "\n",
        "*   Time Consumption: 3538s\n",
        "*   Accuracy: 47.43%\n",
        "\n",
        "\n",
        "2.   Data Augmentation + Data Normalization + Zero-centered + DropOut + Batch Normalization:\n",
        "*   Time Consumption: 4663s\n",
        "*   Accuracy: 63%\n",
        "\n",
        "3.   Data Augmentation + Data Normalization + Zero-centered + DropOut + Batch Normalization + Extra Rotated Images:\n",
        "*   Time Consumption: 9720s\n",
        "*   Accuracy: 52.75%\n",
        "\n",
        "4.   Data Augmentation + Data Normalization + Zero-centered + DropOut + Batch Normalization (*Sigmoid* instead):\n",
        "*   Time Consumption: 4979s\n",
        "*   Accuracy: 13.75%\n",
        "\n"
      ]
    },
    {
      "cell_type": "markdown",
      "metadata": {
        "collapsed": true,
        "id": "nBHKIxzAYYM2",
        "colab_type": "text"
      },
      "source": [
        "## Problem 2: Fine Tuning a Pre-Trained Deep Network\n",
        "{Part 1: 30 points} Our convolutional network to this point isn't \"deep\". Fortunately, the representations learned by deep convolutional networks is that they generalize surprisingly well to other recognition tasks. \n",
        "\n",
        "But how do we use an existing deep network for a new recognition task? Take for instance,  [AlexNet](http://papers.nips.cc/paper/4824-imagenet-classification-with-deep-convolutional-neural-networks) network has 1000 units in the final layer corresponding to 1000 ImageNet categories.\n",
        "\n",
        "**Strategy A**: One could use those 1000 activations as a feature in place of a hand crafted feature such as a bag-of-features representation. You would train a classifier (typically a linear SVM) in that 1000 dimensional feature space. However, those activations are clearly very object specific and may not generalize well to new recognition tasks. It is generally better to use the activations in slightly earlier layers of the network, e.g. the 4096 activations in the last 2nd fully-connected layer. You can often get away with sub-sampling those 4096 activations considerably, e.g. taking only the first 200 activations. \n",
        "\n",
        "**Strategy B**: *Fine-tune* an existing network. In this scenario you take an existing network, replace the final layer (or more) with random weights, and train the entire network again with images and ground truth labels for your recognition task. You are effectively treating the pre-trained deep network as a better initialization than the random weights used when training from scratch. When you don't have enough training data to train a complex network from scratch (e.g. with the 16 classes) this is an attractive option. Fine-tuning can work far better than Strategy A of taking the activations directly from an pre-trained CNN. For example, in [this paper](http://www.cc.gatech.edu/~hays/papers/deep_geo.pdf) from CVPR 2015, there wasn't enough data to train a deep network from scratch, but fine tuning led to 4 times higher accuracy than using off-the-shelf networks directly.\n",
        "\n",
        "You are required to implement **Strategy B** to fine-tune a pre-trained **AlexNet** for this scene classification task. You should be able to achieve performance of 85% approximately. It takes roughly 35~40 minutes to train 20 epoches with AlexNet.\n",
        "\n",
        "Please provide detailed descriptions of:<br>\n",
        "(1) which layers of AlexNet have been replaced<br>\n",
        "(2) the architecture of the new layers added including activation methods (same as problem 1)<br>\n",
        "(3) the final accuracy on test set along with time consumption for both training and testing <br>\n",
        "\n",
        "{Part 2: 20 points} Implement Strategy A where you use the activations of the pre-trained network as features to train one-vs-all SVMs for your scene classification task. Report the final accuracy on test set along with time consumption for both training and testing.\n",
        "\n",
        "{Bonus: 10 points} Bonus will be given to those who fine-tune the [VGG network](https://pytorch.org/docs/stable/_modules/torchvision/models/vgg.html) [paper](https://arxiv.org/pdf/1409.1556.pdf) and compare performance with AlexNet. Explain why VGG performed better or worse.\n",
        "\n",
        "**Hints**:\n",
        "- Many pre-trained models are available in PyTorch at [here](http://pytorch.org/docs/master/torchvision/models.html).\n",
        "- For fine-tuning pretrained network using PyTorch, please read this [tutorial](http://pytorch.org/tutorials/beginner/transfer_learning_tutorial.html)."
      ]
    },
    {
      "cell_type": "code",
      "metadata": {
        "id": "VLG3WtEmYYM3",
        "colab_type": "code",
        "outputId": "dddf7b6e-37f0-4fde-d053-51a752736d3a",
        "colab": {
          "base_uri": "https://localhost:8080/",
          "height": 663
        }
      },
      "source": [
        "# reload data with a larger size\n",
        "img_size = (224, 224)\n",
        "batch_num = 50 # training sample number per batch \n",
        "\n",
        "# load training dataset\n",
        "trainloader_large = list(load_dataset('./data/train/', img_size, batch_num=batch_num, shuffle=True, \n",
        "                                      augment=False, is_color=True, zero_centered=True))\n",
        "train_num = len(trainloader_large)\n",
        "print(\"Finish loading %d minibatches(=%d) of training samples.\" % (train_num, batch_num))\n",
        "\n",
        "# load testing dataset\n",
        "testloader_large = list(load_dataset('./data/test/', img_size, num_per_class=50, batch_num=batch_num, is_color=True))\n",
        "test_num = len(testloader_large)\n",
        "print(\"Finish loading %d minibatches(=%d) of testing samples.\" % (test_num, batch_num))"
      ],
      "execution_count": 12,
      "outputs": [
        {
          "output_type": "stream",
          "text": [
            "Loading images from class: 0\n",
            "Loading images from class: 1\n",
            "Loading images from class: 2\n",
            "Loading images from class: 3\n",
            "Loading images from class: 4\n",
            "Loading images from class: 5\n",
            "Loading images from class: 6\n",
            "Loading images from class: 7\n",
            "Loading images from class: 8\n",
            "Loading images from class: 9\n",
            "Loading images from class: 10\n",
            "Loading images from class: 11\n",
            "Loading images from class: 12\n",
            "Loading images from class: 13\n",
            "Loading images from class: 14\n",
            "Loading images from class: 15\n",
            "2400\n",
            "50\n",
            "Finish loading 48 minibatches(=50) of training samples.\n",
            "Loading images from class: 0\n",
            "Loading images from class: 1\n",
            "Loading images from class: 2\n",
            "Loading images from class: 3\n",
            "Loading images from class: 4\n",
            "Loading images from class: 5\n",
            "Loading images from class: 6\n",
            "Loading images from class: 7\n",
            "Loading images from class: 8\n",
            "Loading images from class: 9\n",
            "Loading images from class: 10\n",
            "Loading images from class: 11\n",
            "Loading images from class: 12\n",
            "Loading images from class: 13\n",
            "Loading images from class: 14\n",
            "Loading images from class: 15\n",
            "400\n",
            "50\n",
            "Finish loading 8 minibatches(=50) of testing samples.\n"
          ],
          "name": "stdout"
        }
      ]
    },
    {
      "cell_type": "code",
      "metadata": {
        "id": "btOal_ampEnm",
        "colab_type": "code",
        "colab": {}
      },
      "source": [
        "# ==========================================\n",
        "#       Fine-Tune Pretrained Network\n",
        "# ==========================================\n",
        "alex = models.alexnet(pretrained=True)\n",
        "alex.classifier[-1].out_features =16"
      ],
      "execution_count": 0,
      "outputs": []
    },
    {
      "cell_type": "code",
      "metadata": {
        "id": "adFGw_yJi_8K",
        "colab_type": "code",
        "colab": {
          "base_uri": "https://localhost:8080/",
          "height": 34
        },
        "outputId": "56874586-2ccd-4b91-b365-84dcab57ba10"
      },
      "source": [
        "# ==========================================\n",
        "#         Optimize/Train Network\n",
        "# ==========================================\n",
        "loss = nn.CrossEntropyLoss()\n",
        "optimizer = torch.optim.SGD(alex.parameters(), lr=0.001, momentum=0.9)\n",
        "# training and testing\n",
        "start7 = time.time()\n",
        "for epoch in range(20):\n",
        "  alex.train()\n",
        "  for step, (data, target) in enumerate(trainloader_large):  \n",
        "    out_put = alex(data)               \n",
        "    loss = loss_func(out_put, target) \n",
        "    optimizer.zero_grad()           \n",
        "    loss.backward()                \n",
        "    optimizer.step() \n",
        "end7 = time.time() \n",
        "time7 = end7 - start7\n",
        "print('The time consumption is ',time7, 'ms')"
      ],
      "execution_count": 15,
      "outputs": [
        {
          "output_type": "stream",
          "text": [
            "The time consumption is  3914.2858486175537 ms\n"
          ],
          "name": "stdout"
        }
      ]
    },
    {
      "cell_type": "code",
      "metadata": {
        "id": "-bbrYnxHPD3m",
        "colab_type": "code",
        "outputId": "6815676b-e154-4daa-812f-43eb68d3943a",
        "colab": {
          "base_uri": "https://localhost:8080/",
          "height": 34
        }
      },
      "source": [
        "# ==========================================\n",
        "#            Evaluating Network\n",
        "# ==========================================\n",
        "correct = 0\n",
        "total = 0\n",
        "with torch.no_grad():\n",
        "    for data in testloader_large:\n",
        "        images, labels = data\n",
        "        outputs = alex(images)\n",
        "        _, predicted = torch.max(outputs.data, 1)\n",
        "        total += labels.size(0)\n",
        "        correct += (predicted == labels).sum().item()\n",
        "print('The accuracy is ', correct/total*100, '%')"
      ],
      "execution_count": 16,
      "outputs": [
        {
          "output_type": "stream",
          "text": [
            "The accuracy is  84.0 %\n"
          ],
          "name": "stdout"
        }
      ]
    },
    {
      "cell_type": "markdown",
      "metadata": {
        "id": "Ml8i6a5_iD2L",
        "colab_type": "text"
      },
      "source": [
        "Stragegy A"
      ]
    },
    {
      "cell_type": "code",
      "metadata": {
        "id": "Vl8pRtH4PLQs",
        "colab_type": "code",
        "colab": {
          "base_uri": "https://localhost:8080/",
          "height": 122
        },
        "outputId": "58488af2-e387-4178-dbff-d7fa73ae6fd3"
      },
      "source": [
        "# ==========================================\n",
        "#         Optimize/Train Network\n",
        "# ==========================================\n",
        "alex_ = models.alexnet(pretrained=True)\n",
        "del alex_.classifier[-1]\n",
        "svc = LinearSVC()\n",
        "train = []\n",
        "label = []\n",
        "for t, l in trainloader_large:\n",
        "    train.extend(alex_(t)[:, :200].detach().numpy())\n",
        "    label.extend(l.detach().numpy())\n",
        "train = np.vstack(train)\n",
        "label = np.hstack(label)\n",
        "start6 = time.time()\n",
        "svc.fit(train, label)\n",
        "end6 = time.time()\n",
        "time6 = end6 - start6\n",
        "print('The time consumption is ',time6, 'ms')"
      ],
      "execution_count": 13,
      "outputs": [
        {
          "output_type": "stream",
          "text": [
            "Downloading: \"https://download.pytorch.org/models/alexnet-owt-4df8aa71.pth\" to /root/.cache/torch/checkpoints/alexnet-owt-4df8aa71.pth\n",
            "100%|██████████| 233M/233M [00:04<00:00, 60.3MB/s]\n"
          ],
          "name": "stderr"
        },
        {
          "output_type": "stream",
          "text": [
            "The time consumption is  0.6662664413452148 ms\n"
          ],
          "name": "stdout"
        },
        {
          "output_type": "stream",
          "text": [
            "/usr/local/lib/python3.6/dist-packages/sklearn/svm/base.py:929: ConvergenceWarning: Liblinear failed to converge, increase the number of iterations.\n",
            "  \"the number of iterations.\", ConvergenceWarning)\n"
          ],
          "name": "stderr"
        }
      ]
    },
    {
      "cell_type": "code",
      "metadata": {
        "id": "ejrqAGhuPfPp",
        "colab_type": "code",
        "outputId": "575759c3-703b-4c83-edaf-321f42a713d5",
        "colab": {
          "base_uri": "https://localhost:8080/",
          "height": 34
        }
      },
      "source": [
        "# ==========================================\n",
        "#            Evaluating Network\n",
        "# ==========================================\n",
        "correct = 0\n",
        "total = 0\n",
        "for data, label in testloader_large:\n",
        "    predicted = svc.predict(alex_(data)[:, :200].detach().numpy())\n",
        "    correct += np.sum(predicted == label.detach().numpy())\n",
        "    total += len(label)\n",
        "print(correct/total)"
      ],
      "execution_count": 0,
      "outputs": [
        {
          "output_type": "stream",
          "text": [
            "0.67\n"
          ],
          "name": "stdout"
        }
      ]
    },
    {
      "cell_type": "markdown",
      "metadata": {
        "id": "ot3IVRzWhPS2",
        "colab_type": "text"
      },
      "source": [
        "VGG_11"
      ]
    },
    {
      "cell_type": "code",
      "metadata": {
        "id": "BI0MdQwUN4eE",
        "colab_type": "code",
        "outputId": "4871265a-103e-4a1e-8b74-857e17f480d6",
        "colab": {
          "base_uri": "https://localhost:8080/",
          "height": 51
        }
      },
      "source": [
        "vgg = models.vgg11(pretrained = True)\n",
        "vgg.classifier[-1].out_features = 16"
      ],
      "execution_count": 7,
      "outputs": [
        {
          "output_type": "stream",
          "text": [
            "Downloading: \"https://download.pytorch.org/models/vgg11-bbd30ac9.pth\" to /root/.cache/torch/checkpoints/vgg11-bbd30ac9.pth\n",
            "100%|██████████| 507M/507M [00:07<00:00, 70.0MB/s]\n"
          ],
          "name": "stderr"
        }
      ]
    },
    {
      "cell_type": "code",
      "metadata": {
        "id": "Auc0SM9MhU7m",
        "colab_type": "code",
        "colab": {}
      },
      "source": [
        "# ==========================================\n",
        "#         Optimize/Train Network\n",
        "# ==========================================\n",
        "optimizer = torch.optim.SGD(vgg.parameters(), lr=0.001, momentum= 0.9)   \n",
        "loss_func = nn.CrossEntropyLoss()   \n",
        "# training and testing\n",
        "start5 = time.time()\n",
        "for epoch in range(20):\n",
        "  vgg.train()\n",
        "  for step, (data, target) in enumerate(trainloader_large):  \n",
        "    out_put = vgg(data)\n",
        "    loss = loss_func(out_put, target)\n",
        "    optimizer.zero_grad()           \n",
        "    loss.backward()               \n",
        "    optimizer.step()\n",
        "  print(loss)\n",
        "end5 = time.time()\n",
        "time5 = end5 - start5\n",
        "print('The time consumption is ',time5, 'ms')"
      ],
      "execution_count": 0,
      "outputs": []
    },
    {
      "cell_type": "code",
      "metadata": {
        "id": "v2NJvvSMhsuZ",
        "colab_type": "code",
        "colab": {
          "base_uri": "https://localhost:8080/",
          "height": 34
        },
        "outputId": "5db1022e-e500-4545-bb18-08671d14e89f"
      },
      "source": [
        "# ==========================================\n",
        "#            Evaluating Network\n",
        "# ==========================================\n",
        "correct = 0\n",
        "total = 0\n",
        "with torch.no_grad():\n",
        "  for data in testloader_large:\n",
        "    test_data, test_label = data\n",
        "    output = vgg(test_data)\n",
        "    _, pred = torch.max(output.data, 1) \n",
        "    total += test_label.size(0)\n",
        "    correct += (pred == test_label).sum().item()\n",
        "print('The accuracy is ',correct/total*100, '%')"
      ],
      "execution_count": 17,
      "outputs": [
        {
          "output_type": "stream",
          "text": [
            "The accuracy is 91.4 %\n"
          ],
          "name": "stdout"
        }
      ]
    },
    {
      "cell_type": "markdown",
      "metadata": {
        "id": "9z8ISopDrabG",
        "colab_type": "text"
      },
      "source": [
        "**Part 1:**\n",
        "The last layer of the AlexNet is replaced with output 16.\n",
        "*   Time Consumption: 3914s\n",
        "*   Accuracy: 84%"
      ]
    },
    {
      "cell_type": "markdown",
      "metadata": {
        "id": "5oBTMm_vreW3",
        "colab_type": "text"
      },
      "source": [
        "**Part 2:**\n",
        "\n",
        "*   Time Consumption: 0.66s\n",
        "*   Accuracy: 67%"
      ]
    },
    {
      "cell_type": "markdown",
      "metadata": {
        "id": "q5ObrQ9NrlzA",
        "colab_type": "text"
      },
      "source": [
        "**Bonus:**\n",
        "\n",
        "VGG implements several small kernals instead of one big kernal in AlexNet, which reserves more detailed features of images.\n",
        "\n",
        "*   Time Consumption: (almost all night)\n",
        "*   Accuracy: 91.4%"
      ]
    },
    {
      "cell_type": "markdown",
      "metadata": {
        "id": "5UGefIYpYYNF",
        "colab_type": "text"
      },
      "source": [
        "## Submission guidelines\n",
        "---\n",
        "Extract the downloaded .zip file to a folder of your preference. The input and output paths are predefined and **DO NOT** change them, (we assume that 'Surname_Givenname_SBUID_hw4' is your working directory, and all the paths are relative to this directory).  The image read and write functions are already written for you. All you need to do is to fill in the blanks as indicated to generate proper outputs. **DO NOT** zip and upload the dataset on blackboard due to size limit.\n",
        "\n",
        "When submitting your .zip file through blackboard, please\n",
        "-- name your .zip file as **Surname_Givenname_SBUID_hw*.zip**.\n",
        "\n",
        "This zip file should include:\n",
        "```\n",
        "Surname_Givenname_SBUID_hw*\n",
        "        |---Surname_Givenname_SBUID_hw*.ipynb\n",
        "        |---Surname_Givenname_SBUID_hw*.py\n",
        "        |---Surname_Givenname_SBUID_hw*.pdf\n",
        "```\n",
        "where Surname_Givenname_SBUID_hw*.py is the Python code of Surname_Givenname_SBUID_hw*.ipynb, which can be dowloaded by File->Download .py.\n",
        "\n",
        "For instance, student Michael Jordan should submit a zip file named \"Jordan_Michael_111134567_hw4.zip\" for homework4 in this structure:\n",
        "```\n",
        "Jordan_Michael_111134567_hw4\n",
        "        |---Jordan_Michael_111134567_hw4.ipynb\n",
        "        |---Jordan_Michael_111134567_hw4.py\n",
        "        |---Jordan_Michael_111134567_hw4.pdf\n",
        "```\n",
        "\n",
        "The **Surname_Givenname_SBUID_hw*.pdf** should include a **google shared link** and **Surname_Givenname_SBUID_Pred*.pdf** should be your test set prediction file in the specified format. To generate the **google shared link**, first create a folder named **Surname_Givenname_SBUID_hw*** in your Google Drive with your Stony Brook account. The structure of the files in the folder should be exactly the same as the one you downloaded. If you alter the folder structures, the grading of your homework will be significantly delayed and possibly penalized.\n",
        "\n",
        "Then right click this folder, click ***Get shareable link***, in the People textfield, enter two TA's emails: ***bo.cao.1@stonybrook.edu*** and ***sayontan.ghosh@stonybrook.edu***. Make sure that TAs who have the link **can edit**, ***not just*** **can view**, and also **uncheck** the **Notify people** box.\n",
        "\n",
        "Colab has a good feature of version control, you should take advantage of this to save your work properly. However, the timestamp of the submission made in blackboard is the only one that we consider for grading. To be more specific, we will only grade the version of your code right before the timestamp of the submission made in blackboard. \n",
        "\n",
        "You are encouraged to post and answer questions on Piazza. Based on the amount of email that we have received in past years, there might be dealys in replying to personal emails. Please ask questions on Piazza and send emails only for personal issues.\n",
        "\n",
        "Be aware that your code will undergo plagiarism check both vertically and horizontally. Please do your own work.\n",
        "\n",
        "**Late submission penalty:** <br>\n",
        "There will be a 10% penalty per day for late submission. However, you will have 4 days throughout the whole semester to submit late without penalty. Note that the grace period is calculated by days instead of hours. If you submit the homework one minute after the deadline, one late day will be counted. Likewise, if you submit one minute after the deadline, the 10% penaly will be imposed if not using the grace period."
      ]
    },
    {
      "cell_type": "markdown",
      "metadata": {
        "id": "AYJOi8QYYYNG",
        "colab_type": "text"
      },
      "source": [
        "<!--Write your report here in markdown or html-->\n"
      ]
    }
  ]
}